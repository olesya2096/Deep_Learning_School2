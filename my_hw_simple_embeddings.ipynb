{
  "nbformat": 4,
  "nbformat_minor": 0,
  "metadata": {
    "kernelspec": {
      "display_name": "Python 3",
      "name": "python3"
    },
    "language_info": {
      "codemirror_mode": {
        "name": "ipython",
        "version": 3
      },
      "file_extension": ".py",
      "mimetype": "text/x-python",
      "name": "python",
      "nbconvert_exporter": "python",
      "pygments_lexer": "ipython3",
      "version": "3.7.2"
    },
    "colab": {
      "provenance": [],
      "collapsed_sections": [
        "0sUSxk866j1_"
      ],
      "gpuType": "T4"
    },
    "accelerator": "GPU",
    "widgets": {
      "application/vnd.jupyter.widget-state+json": {
        "737a44c897624d18a4c2d6c82045ad0a": {
          "model_module": "@jupyter-widgets/controls",
          "model_name": "HBoxModel",
          "model_module_version": "1.5.0",
          "state": {
            "_dom_classes": [],
            "_model_module": "@jupyter-widgets/controls",
            "_model_module_version": "1.5.0",
            "_model_name": "HBoxModel",
            "_view_count": null,
            "_view_module": "@jupyter-widgets/controls",
            "_view_module_version": "1.5.0",
            "_view_name": "HBoxView",
            "box_style": "",
            "children": [
              "IPY_MODEL_81d9da7aadae40829f4bcfed3ad9f80c",
              "IPY_MODEL_6b36106d56bd44d0b2448c17ad39f54d",
              "IPY_MODEL_ae84f62fd89e4612b89351b228609f2b"
            ],
            "layout": "IPY_MODEL_e281f614019e488c9fcec5a850e18c34"
          }
        },
        "81d9da7aadae40829f4bcfed3ad9f80c": {
          "model_module": "@jupyter-widgets/controls",
          "model_name": "HTMLModel",
          "model_module_version": "1.5.0",
          "state": {
            "_dom_classes": [],
            "_model_module": "@jupyter-widgets/controls",
            "_model_module_version": "1.5.0",
            "_model_name": "HTMLModel",
            "_view_count": null,
            "_view_module": "@jupyter-widgets/controls",
            "_view_module_version": "1.5.0",
            "_view_name": "HTMLView",
            "description": "",
            "description_tooltip": null,
            "layout": "IPY_MODEL_a2a3724c0ec7414e9674c175a03b7b82",
            "placeholder": "​",
            "style": "IPY_MODEL_4a8a1c9071ef4311881c53e57ba856c6",
            "value": " 27%"
          }
        },
        "6b36106d56bd44d0b2448c17ad39f54d": {
          "model_module": "@jupyter-widgets/controls",
          "model_name": "FloatProgressModel",
          "model_module_version": "1.5.0",
          "state": {
            "_dom_classes": [],
            "_model_module": "@jupyter-widgets/controls",
            "_model_module_version": "1.5.0",
            "_model_name": "FloatProgressModel",
            "_view_count": null,
            "_view_module": "@jupyter-widgets/controls",
            "_view_module_version": "1.5.0",
            "_view_name": "ProgressView",
            "bar_style": "danger",
            "description": "",
            "description_tooltip": null,
            "layout": "IPY_MODEL_72bde83d179d40d897e7071b480d90ae",
            "max": 3760,
            "min": 0,
            "orientation": "horizontal",
            "style": "IPY_MODEL_e527e4e796c14bce91c590b1c0a12509",
            "value": 1000
          }
        },
        "ae84f62fd89e4612b89351b228609f2b": {
          "model_module": "@jupyter-widgets/controls",
          "model_name": "HTMLModel",
          "model_module_version": "1.5.0",
          "state": {
            "_dom_classes": [],
            "_model_module": "@jupyter-widgets/controls",
            "_model_module_version": "1.5.0",
            "_model_name": "HTMLModel",
            "_view_count": null,
            "_view_module": "@jupyter-widgets/controls",
            "_view_module_version": "1.5.0",
            "_view_name": "HTMLView",
            "description": "",
            "description_tooltip": null,
            "layout": "IPY_MODEL_c17a5947fbe34adab47b7f089e353bd1",
            "placeholder": "​",
            "style": "IPY_MODEL_d4cd1285b0a84e2eaac569cccfa2dae7",
            "value": " 1000/3760 [08:07&lt;24:11,  1.90it/s]"
          }
        },
        "e281f614019e488c9fcec5a850e18c34": {
          "model_module": "@jupyter-widgets/base",
          "model_name": "LayoutModel",
          "model_module_version": "1.2.0",
          "state": {
            "_model_module": "@jupyter-widgets/base",
            "_model_module_version": "1.2.0",
            "_model_name": "LayoutModel",
            "_view_count": null,
            "_view_module": "@jupyter-widgets/base",
            "_view_module_version": "1.2.0",
            "_view_name": "LayoutView",
            "align_content": null,
            "align_items": null,
            "align_self": null,
            "border": null,
            "bottom": null,
            "display": null,
            "flex": null,
            "flex_flow": null,
            "grid_area": null,
            "grid_auto_columns": null,
            "grid_auto_flow": null,
            "grid_auto_rows": null,
            "grid_column": null,
            "grid_gap": null,
            "grid_row": null,
            "grid_template_areas": null,
            "grid_template_columns": null,
            "grid_template_rows": null,
            "height": null,
            "justify_content": null,
            "justify_items": null,
            "left": null,
            "margin": null,
            "max_height": null,
            "max_width": null,
            "min_height": null,
            "min_width": null,
            "object_fit": null,
            "object_position": null,
            "order": null,
            "overflow": null,
            "overflow_x": null,
            "overflow_y": null,
            "padding": null,
            "right": null,
            "top": null,
            "visibility": null,
            "width": null
          }
        },
        "a2a3724c0ec7414e9674c175a03b7b82": {
          "model_module": "@jupyter-widgets/base",
          "model_name": "LayoutModel",
          "model_module_version": "1.2.0",
          "state": {
            "_model_module": "@jupyter-widgets/base",
            "_model_module_version": "1.2.0",
            "_model_name": "LayoutModel",
            "_view_count": null,
            "_view_module": "@jupyter-widgets/base",
            "_view_module_version": "1.2.0",
            "_view_name": "LayoutView",
            "align_content": null,
            "align_items": null,
            "align_self": null,
            "border": null,
            "bottom": null,
            "display": null,
            "flex": null,
            "flex_flow": null,
            "grid_area": null,
            "grid_auto_columns": null,
            "grid_auto_flow": null,
            "grid_auto_rows": null,
            "grid_column": null,
            "grid_gap": null,
            "grid_row": null,
            "grid_template_areas": null,
            "grid_template_columns": null,
            "grid_template_rows": null,
            "height": null,
            "justify_content": null,
            "justify_items": null,
            "left": null,
            "margin": null,
            "max_height": null,
            "max_width": null,
            "min_height": null,
            "min_width": null,
            "object_fit": null,
            "object_position": null,
            "order": null,
            "overflow": null,
            "overflow_x": null,
            "overflow_y": null,
            "padding": null,
            "right": null,
            "top": null,
            "visibility": null,
            "width": null
          }
        },
        "4a8a1c9071ef4311881c53e57ba856c6": {
          "model_module": "@jupyter-widgets/controls",
          "model_name": "DescriptionStyleModel",
          "model_module_version": "1.5.0",
          "state": {
            "_model_module": "@jupyter-widgets/controls",
            "_model_module_version": "1.5.0",
            "_model_name": "DescriptionStyleModel",
            "_view_count": null,
            "_view_module": "@jupyter-widgets/base",
            "_view_module_version": "1.2.0",
            "_view_name": "StyleView",
            "description_width": ""
          }
        },
        "72bde83d179d40d897e7071b480d90ae": {
          "model_module": "@jupyter-widgets/base",
          "model_name": "LayoutModel",
          "model_module_version": "1.2.0",
          "state": {
            "_model_module": "@jupyter-widgets/base",
            "_model_module_version": "1.2.0",
            "_model_name": "LayoutModel",
            "_view_count": null,
            "_view_module": "@jupyter-widgets/base",
            "_view_module_version": "1.2.0",
            "_view_name": "LayoutView",
            "align_content": null,
            "align_items": null,
            "align_self": null,
            "border": null,
            "bottom": null,
            "display": null,
            "flex": null,
            "flex_flow": null,
            "grid_area": null,
            "grid_auto_columns": null,
            "grid_auto_flow": null,
            "grid_auto_rows": null,
            "grid_column": null,
            "grid_gap": null,
            "grid_row": null,
            "grid_template_areas": null,
            "grid_template_columns": null,
            "grid_template_rows": null,
            "height": null,
            "justify_content": null,
            "justify_items": null,
            "left": null,
            "margin": null,
            "max_height": null,
            "max_width": null,
            "min_height": null,
            "min_width": null,
            "object_fit": null,
            "object_position": null,
            "order": null,
            "overflow": null,
            "overflow_x": null,
            "overflow_y": null,
            "padding": null,
            "right": null,
            "top": null,
            "visibility": null,
            "width": null
          }
        },
        "e527e4e796c14bce91c590b1c0a12509": {
          "model_module": "@jupyter-widgets/controls",
          "model_name": "ProgressStyleModel",
          "model_module_version": "1.5.0",
          "state": {
            "_model_module": "@jupyter-widgets/controls",
            "_model_module_version": "1.5.0",
            "_model_name": "ProgressStyleModel",
            "_view_count": null,
            "_view_module": "@jupyter-widgets/base",
            "_view_module_version": "1.2.0",
            "_view_name": "StyleView",
            "bar_color": null,
            "description_width": ""
          }
        },
        "c17a5947fbe34adab47b7f089e353bd1": {
          "model_module": "@jupyter-widgets/base",
          "model_name": "LayoutModel",
          "model_module_version": "1.2.0",
          "state": {
            "_model_module": "@jupyter-widgets/base",
            "_model_module_version": "1.2.0",
            "_model_name": "LayoutModel",
            "_view_count": null,
            "_view_module": "@jupyter-widgets/base",
            "_view_module_version": "1.2.0",
            "_view_name": "LayoutView",
            "align_content": null,
            "align_items": null,
            "align_self": null,
            "border": null,
            "bottom": null,
            "display": null,
            "flex": null,
            "flex_flow": null,
            "grid_area": null,
            "grid_auto_columns": null,
            "grid_auto_flow": null,
            "grid_auto_rows": null,
            "grid_column": null,
            "grid_gap": null,
            "grid_row": null,
            "grid_template_areas": null,
            "grid_template_columns": null,
            "grid_template_rows": null,
            "height": null,
            "justify_content": null,
            "justify_items": null,
            "left": null,
            "margin": null,
            "max_height": null,
            "max_width": null,
            "min_height": null,
            "min_width": null,
            "object_fit": null,
            "object_position": null,
            "order": null,
            "overflow": null,
            "overflow_x": null,
            "overflow_y": null,
            "padding": null,
            "right": null,
            "top": null,
            "visibility": null,
            "width": null
          }
        },
        "d4cd1285b0a84e2eaac569cccfa2dae7": {
          "model_module": "@jupyter-widgets/controls",
          "model_name": "DescriptionStyleModel",
          "model_module_version": "1.5.0",
          "state": {
            "_model_module": "@jupyter-widgets/controls",
            "_model_module_version": "1.5.0",
            "_model_name": "DescriptionStyleModel",
            "_view_count": null,
            "_view_module": "@jupyter-widgets/base",
            "_view_module_version": "1.2.0",
            "_view_name": "StyleView",
            "description_width": ""
          }
        },
        "fdcab874934d40f3a06634a0f48d0bf2": {
          "model_module": "@jupyter-widgets/controls",
          "model_name": "HBoxModel",
          "model_module_version": "1.5.0",
          "state": {
            "_dom_classes": [],
            "_model_module": "@jupyter-widgets/controls",
            "_model_module_version": "1.5.0",
            "_model_name": "HBoxModel",
            "_view_count": null,
            "_view_module": "@jupyter-widgets/controls",
            "_view_module_version": "1.5.0",
            "_view_name": "HBoxView",
            "box_style": "",
            "children": [
              "IPY_MODEL_935232248e944cebbacd3e94d79bed16",
              "IPY_MODEL_fa883ec0af514875ba607b4fc862035e",
              "IPY_MODEL_97dc873cbb6c4d8795234621297874c4"
            ],
            "layout": "IPY_MODEL_045c69e5435244309d4d132ab73fb9f4"
          }
        },
        "935232248e944cebbacd3e94d79bed16": {
          "model_module": "@jupyter-widgets/controls",
          "model_name": "HTMLModel",
          "model_module_version": "1.5.0",
          "state": {
            "_dom_classes": [],
            "_model_module": "@jupyter-widgets/controls",
            "_model_module_version": "1.5.0",
            "_model_name": "HTMLModel",
            "_view_count": null,
            "_view_module": "@jupyter-widgets/controls",
            "_view_module_version": "1.5.0",
            "_view_name": "HTMLView",
            "description": "",
            "description_tooltip": null,
            "layout": "IPY_MODEL_e04e6da604304b0da65f4dd10c409a89",
            "placeholder": "​",
            "style": "IPY_MODEL_d6ea30bf05cd49639a138cc8e9498dc7",
            "value": "100%"
          }
        },
        "fa883ec0af514875ba607b4fc862035e": {
          "model_module": "@jupyter-widgets/controls",
          "model_name": "FloatProgressModel",
          "model_module_version": "1.5.0",
          "state": {
            "_dom_classes": [],
            "_model_module": "@jupyter-widgets/controls",
            "_model_module_version": "1.5.0",
            "_model_name": "FloatProgressModel",
            "_view_count": null,
            "_view_module": "@jupyter-widgets/controls",
            "_view_module_version": "1.5.0",
            "_view_name": "ProgressView",
            "bar_style": "success",
            "description": "",
            "description_tooltip": null,
            "layout": "IPY_MODEL_c351046ea19440cb8dce136828744b6f",
            "max": 6,
            "min": 0,
            "orientation": "horizontal",
            "style": "IPY_MODEL_9d1e69896e0c4896acabefd318298613",
            "value": 6
          }
        },
        "97dc873cbb6c4d8795234621297874c4": {
          "model_module": "@jupyter-widgets/controls",
          "model_name": "HTMLModel",
          "model_module_version": "1.5.0",
          "state": {
            "_dom_classes": [],
            "_model_module": "@jupyter-widgets/controls",
            "_model_module_version": "1.5.0",
            "_model_name": "HTMLModel",
            "_view_count": null,
            "_view_module": "@jupyter-widgets/controls",
            "_view_module_version": "1.5.0",
            "_view_name": "HTMLView",
            "description": "",
            "description_tooltip": null,
            "layout": "IPY_MODEL_57d6696e8c8c43e2a89d97b47f3226c5",
            "placeholder": "​",
            "style": "IPY_MODEL_3bb694f5f45a477cb98a1fe5938f326f",
            "value": " 6/6 [00:00&lt;00:00, 150.24it/s]"
          }
        },
        "045c69e5435244309d4d132ab73fb9f4": {
          "model_module": "@jupyter-widgets/base",
          "model_name": "LayoutModel",
          "model_module_version": "1.2.0",
          "state": {
            "_model_module": "@jupyter-widgets/base",
            "_model_module_version": "1.2.0",
            "_model_name": "LayoutModel",
            "_view_count": null,
            "_view_module": "@jupyter-widgets/base",
            "_view_module_version": "1.2.0",
            "_view_name": "LayoutView",
            "align_content": null,
            "align_items": null,
            "align_self": null,
            "border": null,
            "bottom": null,
            "display": null,
            "flex": null,
            "flex_flow": null,
            "grid_area": null,
            "grid_auto_columns": null,
            "grid_auto_flow": null,
            "grid_auto_rows": null,
            "grid_column": null,
            "grid_gap": null,
            "grid_row": null,
            "grid_template_areas": null,
            "grid_template_columns": null,
            "grid_template_rows": null,
            "height": null,
            "justify_content": null,
            "justify_items": null,
            "left": null,
            "margin": null,
            "max_height": null,
            "max_width": null,
            "min_height": null,
            "min_width": null,
            "object_fit": null,
            "object_position": null,
            "order": null,
            "overflow": null,
            "overflow_x": null,
            "overflow_y": null,
            "padding": null,
            "right": null,
            "top": null,
            "visibility": null,
            "width": null
          }
        },
        "e04e6da604304b0da65f4dd10c409a89": {
          "model_module": "@jupyter-widgets/base",
          "model_name": "LayoutModel",
          "model_module_version": "1.2.0",
          "state": {
            "_model_module": "@jupyter-widgets/base",
            "_model_module_version": "1.2.0",
            "_model_name": "LayoutModel",
            "_view_count": null,
            "_view_module": "@jupyter-widgets/base",
            "_view_module_version": "1.2.0",
            "_view_name": "LayoutView",
            "align_content": null,
            "align_items": null,
            "align_self": null,
            "border": null,
            "bottom": null,
            "display": null,
            "flex": null,
            "flex_flow": null,
            "grid_area": null,
            "grid_auto_columns": null,
            "grid_auto_flow": null,
            "grid_auto_rows": null,
            "grid_column": null,
            "grid_gap": null,
            "grid_row": null,
            "grid_template_areas": null,
            "grid_template_columns": null,
            "grid_template_rows": null,
            "height": null,
            "justify_content": null,
            "justify_items": null,
            "left": null,
            "margin": null,
            "max_height": null,
            "max_width": null,
            "min_height": null,
            "min_width": null,
            "object_fit": null,
            "object_position": null,
            "order": null,
            "overflow": null,
            "overflow_x": null,
            "overflow_y": null,
            "padding": null,
            "right": null,
            "top": null,
            "visibility": null,
            "width": null
          }
        },
        "d6ea30bf05cd49639a138cc8e9498dc7": {
          "model_module": "@jupyter-widgets/controls",
          "model_name": "DescriptionStyleModel",
          "model_module_version": "1.5.0",
          "state": {
            "_model_module": "@jupyter-widgets/controls",
            "_model_module_version": "1.5.0",
            "_model_name": "DescriptionStyleModel",
            "_view_count": null,
            "_view_module": "@jupyter-widgets/base",
            "_view_module_version": "1.2.0",
            "_view_name": "StyleView",
            "description_width": ""
          }
        },
        "c351046ea19440cb8dce136828744b6f": {
          "model_module": "@jupyter-widgets/base",
          "model_name": "LayoutModel",
          "model_module_version": "1.2.0",
          "state": {
            "_model_module": "@jupyter-widgets/base",
            "_model_module_version": "1.2.0",
            "_model_name": "LayoutModel",
            "_view_count": null,
            "_view_module": "@jupyter-widgets/base",
            "_view_module_version": "1.2.0",
            "_view_name": "LayoutView",
            "align_content": null,
            "align_items": null,
            "align_self": null,
            "border": null,
            "bottom": null,
            "display": null,
            "flex": null,
            "flex_flow": null,
            "grid_area": null,
            "grid_auto_columns": null,
            "grid_auto_flow": null,
            "grid_auto_rows": null,
            "grid_column": null,
            "grid_gap": null,
            "grid_row": null,
            "grid_template_areas": null,
            "grid_template_columns": null,
            "grid_template_rows": null,
            "height": null,
            "justify_content": null,
            "justify_items": null,
            "left": null,
            "margin": null,
            "max_height": null,
            "max_width": null,
            "min_height": null,
            "min_width": null,
            "object_fit": null,
            "object_position": null,
            "order": null,
            "overflow": null,
            "overflow_x": null,
            "overflow_y": null,
            "padding": null,
            "right": null,
            "top": null,
            "visibility": null,
            "width": null
          }
        },
        "9d1e69896e0c4896acabefd318298613": {
          "model_module": "@jupyter-widgets/controls",
          "model_name": "ProgressStyleModel",
          "model_module_version": "1.5.0",
          "state": {
            "_model_module": "@jupyter-widgets/controls",
            "_model_module_version": "1.5.0",
            "_model_name": "ProgressStyleModel",
            "_view_count": null,
            "_view_module": "@jupyter-widgets/base",
            "_view_module_version": "1.2.0",
            "_view_name": "StyleView",
            "bar_color": null,
            "description_width": ""
          }
        },
        "57d6696e8c8c43e2a89d97b47f3226c5": {
          "model_module": "@jupyter-widgets/base",
          "model_name": "LayoutModel",
          "model_module_version": "1.2.0",
          "state": {
            "_model_module": "@jupyter-widgets/base",
            "_model_module_version": "1.2.0",
            "_model_name": "LayoutModel",
            "_view_count": null,
            "_view_module": "@jupyter-widgets/base",
            "_view_module_version": "1.2.0",
            "_view_name": "LayoutView",
            "align_content": null,
            "align_items": null,
            "align_self": null,
            "border": null,
            "bottom": null,
            "display": null,
            "flex": null,
            "flex_flow": null,
            "grid_area": null,
            "grid_auto_columns": null,
            "grid_auto_flow": null,
            "grid_auto_rows": null,
            "grid_column": null,
            "grid_gap": null,
            "grid_row": null,
            "grid_template_areas": null,
            "grid_template_columns": null,
            "grid_template_rows": null,
            "height": null,
            "justify_content": null,
            "justify_items": null,
            "left": null,
            "margin": null,
            "max_height": null,
            "max_width": null,
            "min_height": null,
            "min_width": null,
            "object_fit": null,
            "object_position": null,
            "order": null,
            "overflow": null,
            "overflow_x": null,
            "overflow_y": null,
            "padding": null,
            "right": null,
            "top": null,
            "visibility": null,
            "width": null
          }
        },
        "3bb694f5f45a477cb98a1fe5938f326f": {
          "model_module": "@jupyter-widgets/controls",
          "model_name": "DescriptionStyleModel",
          "model_module_version": "1.5.0",
          "state": {
            "_model_module": "@jupyter-widgets/controls",
            "_model_module_version": "1.5.0",
            "_model_name": "DescriptionStyleModel",
            "_view_count": null,
            "_view_module": "@jupyter-widgets/base",
            "_view_module_version": "1.2.0",
            "_view_name": "StyleView",
            "description_width": ""
          }
        },
        "5899853793014982983ef99115a97484": {
          "model_module": "@jupyter-widgets/controls",
          "model_name": "HBoxModel",
          "model_module_version": "1.5.0",
          "state": {
            "_dom_classes": [],
            "_model_module": "@jupyter-widgets/controls",
            "_model_module_version": "1.5.0",
            "_model_name": "HBoxModel",
            "_view_count": null,
            "_view_module": "@jupyter-widgets/controls",
            "_view_module_version": "1.5.0",
            "_view_name": "HBoxView",
            "box_style": "",
            "children": [
              "IPY_MODEL_b4b94c6c7e6f4788ad0dbd3708335b32",
              "IPY_MODEL_05147db684b64ea7b17fc51541d6234c",
              "IPY_MODEL_28fe0802259142a2a02267993158770e"
            ],
            "layout": "IPY_MODEL_01c8c6c92b5c45d28cd409fb54c9a06c"
          }
        },
        "b4b94c6c7e6f4788ad0dbd3708335b32": {
          "model_module": "@jupyter-widgets/controls",
          "model_name": "HTMLModel",
          "model_module_version": "1.5.0",
          "state": {
            "_dom_classes": [],
            "_model_module": "@jupyter-widgets/controls",
            "_model_module_version": "1.5.0",
            "_model_name": "HTMLModel",
            "_view_count": null,
            "_view_module": "@jupyter-widgets/controls",
            "_view_module_version": "1.5.0",
            "_view_name": "HTMLView",
            "description": "",
            "description_tooltip": null,
            "layout": "IPY_MODEL_a84955213512465fa0405301eb27f45e",
            "placeholder": "​",
            "style": "IPY_MODEL_ef8d229285c64665a4b19fa48bc86970",
            "value": " 27%"
          }
        },
        "05147db684b64ea7b17fc51541d6234c": {
          "model_module": "@jupyter-widgets/controls",
          "model_name": "FloatProgressModel",
          "model_module_version": "1.5.0",
          "state": {
            "_dom_classes": [],
            "_model_module": "@jupyter-widgets/controls",
            "_model_module_version": "1.5.0",
            "_model_name": "FloatProgressModel",
            "_view_count": null,
            "_view_module": "@jupyter-widgets/controls",
            "_view_module_version": "1.5.0",
            "_view_name": "ProgressView",
            "bar_style": "danger",
            "description": "",
            "description_tooltip": null,
            "layout": "IPY_MODEL_3e30dae7f40348739318cd7086d34684",
            "max": 3760,
            "min": 0,
            "orientation": "horizontal",
            "style": "IPY_MODEL_088ec885b30d46e6825a8cba7104b17c",
            "value": 1000
          }
        },
        "28fe0802259142a2a02267993158770e": {
          "model_module": "@jupyter-widgets/controls",
          "model_name": "HTMLModel",
          "model_module_version": "1.5.0",
          "state": {
            "_dom_classes": [],
            "_model_module": "@jupyter-widgets/controls",
            "_model_module_version": "1.5.0",
            "_model_name": "HTMLModel",
            "_view_count": null,
            "_view_module": "@jupyter-widgets/controls",
            "_view_module_version": "1.5.0",
            "_view_name": "HTMLView",
            "description": "",
            "description_tooltip": null,
            "layout": "IPY_MODEL_ea6729fccd6e4f8aa28b95ef51b7e21e",
            "placeholder": "​",
            "style": "IPY_MODEL_71971f6287c44556b5ce23b4dad7e1cb",
            "value": " 1000/3760 [07:48&lt;20:28,  2.25it/s]"
          }
        },
        "01c8c6c92b5c45d28cd409fb54c9a06c": {
          "model_module": "@jupyter-widgets/base",
          "model_name": "LayoutModel",
          "model_module_version": "1.2.0",
          "state": {
            "_model_module": "@jupyter-widgets/base",
            "_model_module_version": "1.2.0",
            "_model_name": "LayoutModel",
            "_view_count": null,
            "_view_module": "@jupyter-widgets/base",
            "_view_module_version": "1.2.0",
            "_view_name": "LayoutView",
            "align_content": null,
            "align_items": null,
            "align_self": null,
            "border": null,
            "bottom": null,
            "display": null,
            "flex": null,
            "flex_flow": null,
            "grid_area": null,
            "grid_auto_columns": null,
            "grid_auto_flow": null,
            "grid_auto_rows": null,
            "grid_column": null,
            "grid_gap": null,
            "grid_row": null,
            "grid_template_areas": null,
            "grid_template_columns": null,
            "grid_template_rows": null,
            "height": null,
            "justify_content": null,
            "justify_items": null,
            "left": null,
            "margin": null,
            "max_height": null,
            "max_width": null,
            "min_height": null,
            "min_width": null,
            "object_fit": null,
            "object_position": null,
            "order": null,
            "overflow": null,
            "overflow_x": null,
            "overflow_y": null,
            "padding": null,
            "right": null,
            "top": null,
            "visibility": null,
            "width": null
          }
        },
        "a84955213512465fa0405301eb27f45e": {
          "model_module": "@jupyter-widgets/base",
          "model_name": "LayoutModel",
          "model_module_version": "1.2.0",
          "state": {
            "_model_module": "@jupyter-widgets/base",
            "_model_module_version": "1.2.0",
            "_model_name": "LayoutModel",
            "_view_count": null,
            "_view_module": "@jupyter-widgets/base",
            "_view_module_version": "1.2.0",
            "_view_name": "LayoutView",
            "align_content": null,
            "align_items": null,
            "align_self": null,
            "border": null,
            "bottom": null,
            "display": null,
            "flex": null,
            "flex_flow": null,
            "grid_area": null,
            "grid_auto_columns": null,
            "grid_auto_flow": null,
            "grid_auto_rows": null,
            "grid_column": null,
            "grid_gap": null,
            "grid_row": null,
            "grid_template_areas": null,
            "grid_template_columns": null,
            "grid_template_rows": null,
            "height": null,
            "justify_content": null,
            "justify_items": null,
            "left": null,
            "margin": null,
            "max_height": null,
            "max_width": null,
            "min_height": null,
            "min_width": null,
            "object_fit": null,
            "object_position": null,
            "order": null,
            "overflow": null,
            "overflow_x": null,
            "overflow_y": null,
            "padding": null,
            "right": null,
            "top": null,
            "visibility": null,
            "width": null
          }
        },
        "ef8d229285c64665a4b19fa48bc86970": {
          "model_module": "@jupyter-widgets/controls",
          "model_name": "DescriptionStyleModel",
          "model_module_version": "1.5.0",
          "state": {
            "_model_module": "@jupyter-widgets/controls",
            "_model_module_version": "1.5.0",
            "_model_name": "DescriptionStyleModel",
            "_view_count": null,
            "_view_module": "@jupyter-widgets/base",
            "_view_module_version": "1.2.0",
            "_view_name": "StyleView",
            "description_width": ""
          }
        },
        "3e30dae7f40348739318cd7086d34684": {
          "model_module": "@jupyter-widgets/base",
          "model_name": "LayoutModel",
          "model_module_version": "1.2.0",
          "state": {
            "_model_module": "@jupyter-widgets/base",
            "_model_module_version": "1.2.0",
            "_model_name": "LayoutModel",
            "_view_count": null,
            "_view_module": "@jupyter-widgets/base",
            "_view_module_version": "1.2.0",
            "_view_name": "LayoutView",
            "align_content": null,
            "align_items": null,
            "align_self": null,
            "border": null,
            "bottom": null,
            "display": null,
            "flex": null,
            "flex_flow": null,
            "grid_area": null,
            "grid_auto_columns": null,
            "grid_auto_flow": null,
            "grid_auto_rows": null,
            "grid_column": null,
            "grid_gap": null,
            "grid_row": null,
            "grid_template_areas": null,
            "grid_template_columns": null,
            "grid_template_rows": null,
            "height": null,
            "justify_content": null,
            "justify_items": null,
            "left": null,
            "margin": null,
            "max_height": null,
            "max_width": null,
            "min_height": null,
            "min_width": null,
            "object_fit": null,
            "object_position": null,
            "order": null,
            "overflow": null,
            "overflow_x": null,
            "overflow_y": null,
            "padding": null,
            "right": null,
            "top": null,
            "visibility": null,
            "width": null
          }
        },
        "088ec885b30d46e6825a8cba7104b17c": {
          "model_module": "@jupyter-widgets/controls",
          "model_name": "ProgressStyleModel",
          "model_module_version": "1.5.0",
          "state": {
            "_model_module": "@jupyter-widgets/controls",
            "_model_module_version": "1.5.0",
            "_model_name": "ProgressStyleModel",
            "_view_count": null,
            "_view_module": "@jupyter-widgets/base",
            "_view_module_version": "1.2.0",
            "_view_name": "StyleView",
            "bar_color": null,
            "description_width": ""
          }
        },
        "ea6729fccd6e4f8aa28b95ef51b7e21e": {
          "model_module": "@jupyter-widgets/base",
          "model_name": "LayoutModel",
          "model_module_version": "1.2.0",
          "state": {
            "_model_module": "@jupyter-widgets/base",
            "_model_module_version": "1.2.0",
            "_model_name": "LayoutModel",
            "_view_count": null,
            "_view_module": "@jupyter-widgets/base",
            "_view_module_version": "1.2.0",
            "_view_name": "LayoutView",
            "align_content": null,
            "align_items": null,
            "align_self": null,
            "border": null,
            "bottom": null,
            "display": null,
            "flex": null,
            "flex_flow": null,
            "grid_area": null,
            "grid_auto_columns": null,
            "grid_auto_flow": null,
            "grid_auto_rows": null,
            "grid_column": null,
            "grid_gap": null,
            "grid_row": null,
            "grid_template_areas": null,
            "grid_template_columns": null,
            "grid_template_rows": null,
            "height": null,
            "justify_content": null,
            "justify_items": null,
            "left": null,
            "margin": null,
            "max_height": null,
            "max_width": null,
            "min_height": null,
            "min_width": null,
            "object_fit": null,
            "object_position": null,
            "order": null,
            "overflow": null,
            "overflow_x": null,
            "overflow_y": null,
            "padding": null,
            "right": null,
            "top": null,
            "visibility": null,
            "width": null
          }
        },
        "71971f6287c44556b5ce23b4dad7e1cb": {
          "model_module": "@jupyter-widgets/controls",
          "model_name": "DescriptionStyleModel",
          "model_module_version": "1.5.0",
          "state": {
            "_model_module": "@jupyter-widgets/controls",
            "_model_module_version": "1.5.0",
            "_model_name": "DescriptionStyleModel",
            "_view_count": null,
            "_view_module": "@jupyter-widgets/base",
            "_view_module_version": "1.2.0",
            "_view_name": "StyleView",
            "description_width": ""
          }
        },
        "0a3935c31205416fb8672abee15dd902": {
          "model_module": "@jupyter-widgets/controls",
          "model_name": "HBoxModel",
          "model_module_version": "1.5.0",
          "state": {
            "_dom_classes": [],
            "_model_module": "@jupyter-widgets/controls",
            "_model_module_version": "1.5.0",
            "_model_name": "HBoxModel",
            "_view_count": null,
            "_view_module": "@jupyter-widgets/controls",
            "_view_module_version": "1.5.0",
            "_view_name": "HBoxView",
            "box_style": "",
            "children": [
              "IPY_MODEL_e512967ee1184ac08028cb8bf0cf7396",
              "IPY_MODEL_247aff0198704495a81f0332ba283217",
              "IPY_MODEL_eb668278abd346d680b34554291bdbec"
            ],
            "layout": "IPY_MODEL_8344c0cbe2a942ab9939d24b007e6ea8"
          }
        },
        "e512967ee1184ac08028cb8bf0cf7396": {
          "model_module": "@jupyter-widgets/controls",
          "model_name": "HTMLModel",
          "model_module_version": "1.5.0",
          "state": {
            "_dom_classes": [],
            "_model_module": "@jupyter-widgets/controls",
            "_model_module_version": "1.5.0",
            "_model_name": "HTMLModel",
            "_view_count": null,
            "_view_module": "@jupyter-widgets/controls",
            "_view_module_version": "1.5.0",
            "_view_name": "HTMLView",
            "description": "",
            "description_tooltip": null,
            "layout": "IPY_MODEL_c68fe3f2e3a24e20a6faae1dac8835f1",
            "placeholder": "​",
            "style": "IPY_MODEL_694d3f17ea39496db11f1be492e98960",
            "value": "100%"
          }
        },
        "247aff0198704495a81f0332ba283217": {
          "model_module": "@jupyter-widgets/controls",
          "model_name": "FloatProgressModel",
          "model_module_version": "1.5.0",
          "state": {
            "_dom_classes": [],
            "_model_module": "@jupyter-widgets/controls",
            "_model_module_version": "1.5.0",
            "_model_name": "FloatProgressModel",
            "_view_count": null,
            "_view_module": "@jupyter-widgets/controls",
            "_view_module_version": "1.5.0",
            "_view_name": "ProgressView",
            "bar_style": "success",
            "description": "",
            "description_tooltip": null,
            "layout": "IPY_MODEL_82c86a75031c4f84ace4dc335b79d369",
            "max": 6,
            "min": 0,
            "orientation": "horizontal",
            "style": "IPY_MODEL_074ea7a1712241268abd352eaf9ef3ee",
            "value": 6
          }
        },
        "eb668278abd346d680b34554291bdbec": {
          "model_module": "@jupyter-widgets/controls",
          "model_name": "HTMLModel",
          "model_module_version": "1.5.0",
          "state": {
            "_dom_classes": [],
            "_model_module": "@jupyter-widgets/controls",
            "_model_module_version": "1.5.0",
            "_model_name": "HTMLModel",
            "_view_count": null,
            "_view_module": "@jupyter-widgets/controls",
            "_view_module_version": "1.5.0",
            "_view_name": "HTMLView",
            "description": "",
            "description_tooltip": null,
            "layout": "IPY_MODEL_15c60dd349254e2fb05307ff6d81482c",
            "placeholder": "​",
            "style": "IPY_MODEL_17a431e1455b476f85726e61dba81126",
            "value": " 6/6 [00:00&lt;00:00, 138.11it/s]"
          }
        },
        "8344c0cbe2a942ab9939d24b007e6ea8": {
          "model_module": "@jupyter-widgets/base",
          "model_name": "LayoutModel",
          "model_module_version": "1.2.0",
          "state": {
            "_model_module": "@jupyter-widgets/base",
            "_model_module_version": "1.2.0",
            "_model_name": "LayoutModel",
            "_view_count": null,
            "_view_module": "@jupyter-widgets/base",
            "_view_module_version": "1.2.0",
            "_view_name": "LayoutView",
            "align_content": null,
            "align_items": null,
            "align_self": null,
            "border": null,
            "bottom": null,
            "display": null,
            "flex": null,
            "flex_flow": null,
            "grid_area": null,
            "grid_auto_columns": null,
            "grid_auto_flow": null,
            "grid_auto_rows": null,
            "grid_column": null,
            "grid_gap": null,
            "grid_row": null,
            "grid_template_areas": null,
            "grid_template_columns": null,
            "grid_template_rows": null,
            "height": null,
            "justify_content": null,
            "justify_items": null,
            "left": null,
            "margin": null,
            "max_height": null,
            "max_width": null,
            "min_height": null,
            "min_width": null,
            "object_fit": null,
            "object_position": null,
            "order": null,
            "overflow": null,
            "overflow_x": null,
            "overflow_y": null,
            "padding": null,
            "right": null,
            "top": null,
            "visibility": null,
            "width": null
          }
        },
        "c68fe3f2e3a24e20a6faae1dac8835f1": {
          "model_module": "@jupyter-widgets/base",
          "model_name": "LayoutModel",
          "model_module_version": "1.2.0",
          "state": {
            "_model_module": "@jupyter-widgets/base",
            "_model_module_version": "1.2.0",
            "_model_name": "LayoutModel",
            "_view_count": null,
            "_view_module": "@jupyter-widgets/base",
            "_view_module_version": "1.2.0",
            "_view_name": "LayoutView",
            "align_content": null,
            "align_items": null,
            "align_self": null,
            "border": null,
            "bottom": null,
            "display": null,
            "flex": null,
            "flex_flow": null,
            "grid_area": null,
            "grid_auto_columns": null,
            "grid_auto_flow": null,
            "grid_auto_rows": null,
            "grid_column": null,
            "grid_gap": null,
            "grid_row": null,
            "grid_template_areas": null,
            "grid_template_columns": null,
            "grid_template_rows": null,
            "height": null,
            "justify_content": null,
            "justify_items": null,
            "left": null,
            "margin": null,
            "max_height": null,
            "max_width": null,
            "min_height": null,
            "min_width": null,
            "object_fit": null,
            "object_position": null,
            "order": null,
            "overflow": null,
            "overflow_x": null,
            "overflow_y": null,
            "padding": null,
            "right": null,
            "top": null,
            "visibility": null,
            "width": null
          }
        },
        "694d3f17ea39496db11f1be492e98960": {
          "model_module": "@jupyter-widgets/controls",
          "model_name": "DescriptionStyleModel",
          "model_module_version": "1.5.0",
          "state": {
            "_model_module": "@jupyter-widgets/controls",
            "_model_module_version": "1.5.0",
            "_model_name": "DescriptionStyleModel",
            "_view_count": null,
            "_view_module": "@jupyter-widgets/base",
            "_view_module_version": "1.2.0",
            "_view_name": "StyleView",
            "description_width": ""
          }
        },
        "82c86a75031c4f84ace4dc335b79d369": {
          "model_module": "@jupyter-widgets/base",
          "model_name": "LayoutModel",
          "model_module_version": "1.2.0",
          "state": {
            "_model_module": "@jupyter-widgets/base",
            "_model_module_version": "1.2.0",
            "_model_name": "LayoutModel",
            "_view_count": null,
            "_view_module": "@jupyter-widgets/base",
            "_view_module_version": "1.2.0",
            "_view_name": "LayoutView",
            "align_content": null,
            "align_items": null,
            "align_self": null,
            "border": null,
            "bottom": null,
            "display": null,
            "flex": null,
            "flex_flow": null,
            "grid_area": null,
            "grid_auto_columns": null,
            "grid_auto_flow": null,
            "grid_auto_rows": null,
            "grid_column": null,
            "grid_gap": null,
            "grid_row": null,
            "grid_template_areas": null,
            "grid_template_columns": null,
            "grid_template_rows": null,
            "height": null,
            "justify_content": null,
            "justify_items": null,
            "left": null,
            "margin": null,
            "max_height": null,
            "max_width": null,
            "min_height": null,
            "min_width": null,
            "object_fit": null,
            "object_position": null,
            "order": null,
            "overflow": null,
            "overflow_x": null,
            "overflow_y": null,
            "padding": null,
            "right": null,
            "top": null,
            "visibility": null,
            "width": null
          }
        },
        "074ea7a1712241268abd352eaf9ef3ee": {
          "model_module": "@jupyter-widgets/controls",
          "model_name": "ProgressStyleModel",
          "model_module_version": "1.5.0",
          "state": {
            "_model_module": "@jupyter-widgets/controls",
            "_model_module_version": "1.5.0",
            "_model_name": "ProgressStyleModel",
            "_view_count": null,
            "_view_module": "@jupyter-widgets/base",
            "_view_module_version": "1.2.0",
            "_view_name": "StyleView",
            "bar_color": null,
            "description_width": ""
          }
        },
        "15c60dd349254e2fb05307ff6d81482c": {
          "model_module": "@jupyter-widgets/base",
          "model_name": "LayoutModel",
          "model_module_version": "1.2.0",
          "state": {
            "_model_module": "@jupyter-widgets/base",
            "_model_module_version": "1.2.0",
            "_model_name": "LayoutModel",
            "_view_count": null,
            "_view_module": "@jupyter-widgets/base",
            "_view_module_version": "1.2.0",
            "_view_name": "LayoutView",
            "align_content": null,
            "align_items": null,
            "align_self": null,
            "border": null,
            "bottom": null,
            "display": null,
            "flex": null,
            "flex_flow": null,
            "grid_area": null,
            "grid_auto_columns": null,
            "grid_auto_flow": null,
            "grid_auto_rows": null,
            "grid_column": null,
            "grid_gap": null,
            "grid_row": null,
            "grid_template_areas": null,
            "grid_template_columns": null,
            "grid_template_rows": null,
            "height": null,
            "justify_content": null,
            "justify_items": null,
            "left": null,
            "margin": null,
            "max_height": null,
            "max_width": null,
            "min_height": null,
            "min_width": null,
            "object_fit": null,
            "object_position": null,
            "order": null,
            "overflow": null,
            "overflow_x": null,
            "overflow_y": null,
            "padding": null,
            "right": null,
            "top": null,
            "visibility": null,
            "width": null
          }
        },
        "17a431e1455b476f85726e61dba81126": {
          "model_module": "@jupyter-widgets/controls",
          "model_name": "DescriptionStyleModel",
          "model_module_version": "1.5.0",
          "state": {
            "_model_module": "@jupyter-widgets/controls",
            "_model_module_version": "1.5.0",
            "_model_name": "DescriptionStyleModel",
            "_view_count": null,
            "_view_module": "@jupyter-widgets/base",
            "_view_module_version": "1.2.0",
            "_view_name": "StyleView",
            "description_width": ""
          }
        }
      }
    }
  },
  "cells": [
    {
      "cell_type": "markdown",
      "metadata": {
        "id": "Ot3c4fjZwC4T"
      },
      "source": [
        "<img src=\"https://s8.hostingkartinok.com/uploads/images/2018/08/308b49fcfbc619d629fe4604bceb67ac.jpg\" width=500, height=450>\n",
        "<h3 style=\"text-align: center;\"><b>Физтех-Школа Прикладной математики и информатики (ФПМИ) МФТИ</b></h3>"
      ]
    },
    {
      "cell_type": "markdown",
      "metadata": {
        "id": "P2JdzEXmwRU5"
      },
      "source": [
        "---"
      ]
    },
    {
      "cell_type": "markdown",
      "metadata": {
        "id": "Fc8iHXIVwDwj"
      },
      "source": [
        "***Some parts of the notebook are almost the copy of [ mmta-team course](https://github.com/mmta-team/mmta_fall_2020). Special thanks to mmta-team for making them publicly available. [Original notebook](https://github.com/mmta-team/mmta_fall_2020/blob/master/tasks/01_word_embeddings/task_word_embeddings.ipynb).***"
      ]
    },
    {
      "cell_type": "markdown",
      "metadata": {
        "id": "BIWqBuEa6j0b"
      },
      "source": [
        "## Задача поиска схожих по смыслу предложений"
      ]
    },
    {
      "cell_type": "markdown",
      "metadata": {
        "id": "NUkwMPLA6j0g"
      },
      "source": [
        "Мы будем ранжировать вопросы [StackOverflow](https://stackoverflow.com) на основе семантического векторного представления"
      ]
    },
    {
      "cell_type": "markdown",
      "metadata": {
        "id": "dNRXIEfu5a3Q"
      },
      "source": [
        "До этого в курсе не было речи про задачу ранжировния, поэтому введем математическую формулировку"
      ]
    },
    {
      "cell_type": "markdown",
      "metadata": {
        "id": "uS9FwWNd5a3S"
      },
      "source": [
        "## Задача ранжирования(Learning to Rank)"
      ]
    },
    {
      "cell_type": "markdown",
      "metadata": {
        "id": "wdwY9-f75a3T"
      },
      "source": [
        "* $X$ - множество объектов\n",
        "* $X^l = \\{x_1, x_2, ..., x_l\\}$ - обучающая выборка\n",
        "<br>На обучающей выборке задан порядок между некоторыми элементами, то есть нам известно, что некий объект выборки более релевантный для нас, чем другой:\n",
        "* $i \\prec j$ - порядок пары индексов объектов на выборке $X^l$ c индексами $i$ и $j$\n",
        "### Задача:\n",
        "построить ранжирующую функцию $a$ : $X \\rightarrow R$ такую, что\n",
        "$$i \\prec j \\Rightarrow a(x_i) < a(x_j)$$"
      ]
    },
    {
      "cell_type": "markdown",
      "metadata": {
        "id": "WG2IGBsh5a3U"
      },
      "source": [
        "<img src=\"https://d25skit2l41vkl.cloudfront.net/wp-content/uploads/2016/12/Featured-Image.jpg\" width=500, height=450>"
      ]
    },
    {
      "cell_type": "markdown",
      "metadata": {
        "id": "MQk_rolFwT_h"
      },
      "source": [
        "### Embeddings"
      ]
    },
    {
      "cell_type": "markdown",
      "metadata": {
        "id": "xUe1PGXn6j0l"
      },
      "source": [
        "Будем использовать предобученные векторные представления слов на постах Stack Overflow.<br>\n",
        "[A word2vec model trained on Stack Overflow posts](https://github.com/vefstathiou/SO_word2vec)"
      ]
    },
    {
      "cell_type": "code",
      "metadata": {
        "id": "mYkI54Y-rk7a",
        "colab": {
          "base_uri": "https://localhost:8080/"
        },
        "outputId": "8c1dda94-4a61-44de-8f27-0bd7405d6ad0"
      },
      "source": [
        "!wget https://zenodo.org/record/1199620/files/SO_vectors_200.bin?download=1"
      ],
      "execution_count": null,
      "outputs": [
        {
          "output_type": "stream",
          "name": "stdout",
          "text": [
            "--2023-07-20 08:39:17--  https://zenodo.org/record/1199620/files/SO_vectors_200.bin?download=1\n",
            "Resolving zenodo.org (zenodo.org)... 188.185.124.72\n",
            "Connecting to zenodo.org (zenodo.org)|188.185.124.72|:443... connected.\n",
            "HTTP request sent, awaiting response... 200 OK\n",
            "Length: 1453905423 (1.4G) [application/octet-stream]\n",
            "Saving to: ‘SO_vectors_200.bin?download=1.2’\n",
            "\n",
            "SO_vectors_200.bin? 100%[===================>]   1.35G  3.63MB/s    in 9m 22s  \n",
            "\n",
            "2023-07-20 08:48:42 (2.47 MB/s) - ‘SO_vectors_200.bin?download=1.2’ saved [1453905423/1453905423]\n",
            "\n"
          ]
        }
      ]
    },
    {
      "cell_type": "code",
      "metadata": {
        "id": "O8YJTOYv6j0s"
      },
      "source": [
        "from gensim.models import KeyedVectors\n",
        "wv_embeddings = KeyedVectors.load_word2vec_format(\"SO_vectors_200.bin?download=1.2\", binary=True)"
      ],
      "execution_count": null,
      "outputs": []
    },
    {
      "cell_type": "markdown",
      "metadata": {
        "id": "aIcT_g-C6j1E"
      },
      "source": [
        "#### Как пользоваться этими векторами?"
      ]
    },
    {
      "cell_type": "markdown",
      "metadata": {
        "id": "DWO5SPDY6j1G"
      },
      "source": [
        "Посмотрим на примере одного слова, что из себя представляет embedding"
      ]
    },
    {
      "cell_type": "code",
      "metadata": {
        "scrolled": true,
        "id": "KeSBlQfk6j1J"
      },
      "source": [
        "word = 'dog'\n",
        "if word in wv_embeddings:\n",
        "    print(wv_embeddings[word].dtype, wv_embeddings[word].shape)"
      ],
      "execution_count": null,
      "outputs": []
    },
    {
      "cell_type": "code",
      "source": [
        "wv_embeddings['dog']"
      ],
      "metadata": {
        "colab": {
          "base_uri": "https://localhost:8080/"
        },
        "id": "ao_JQZdNOHFJ",
        "outputId": "34b80083-e972-4813-dade-4a01e3fee694"
      },
      "execution_count": null,
      "outputs": [
        {
          "output_type": "execute_result",
          "data": {
            "text/plain": [
              "array([ 0.6851772 , -1.2778991 , -0.41913974,  1.3623164 , -3.1675398 ,\n",
              "        0.09950767,  0.6402681 , -1.1245339 , -0.6699619 , -0.6998852 ,\n",
              "        0.4936771 , -0.40500194, -3.0706816 , -2.2809966 ,  0.85798043,\n",
              "        2.7093108 ,  0.3492745 , -0.03494101, -0.22330493,  1.2290467 ,\n",
              "        1.7755157 , -3.158358  , -0.6515983 ,  0.7224096 ,  2.3193083 ,\n",
              "       -1.7969862 ,  0.40903398, -2.744604  , -1.7179952 , -0.914309  ,\n",
              "       -0.75887376, -0.35140672, -0.5182776 , -1.9097351 , -0.8300773 ,\n",
              "        0.02147918,  1.1783471 ,  0.03169126, -0.3069023 ,  1.6666299 ,\n",
              "        0.6711357 , -2.1706133 , -0.11800487,  0.22336982, -1.2075394 ,\n",
              "       -0.86297905, -0.63865614,  1.1733794 ,  0.10022762,  0.7017279 ,\n",
              "        2.7290728 , -0.4640484 , -2.1719306 , -0.3562852 , -1.8449957 ,\n",
              "        0.10270727,  1.1125596 , -0.8364318 ,  1.9513408 , -0.97937447,\n",
              "        1.2650859 ,  0.06809282,  0.6477318 , -0.52431005, -0.6103959 ,\n",
              "       -2.979829  , -0.7889965 , -0.11004248,  1.7603841 , -1.0547444 ,\n",
              "       -0.98998   , -1.1834062 , -2.5359967 , -0.35286787,  0.7733574 ,\n",
              "        0.16300043,  0.76991326,  1.9223119 , -1.2843752 , -1.5023688 ,\n",
              "        0.15765315, -2.4150877 ,  2.4326491 , -0.36940518,  2.2511673 ,\n",
              "       -1.602164  ,  1.0818797 ,  0.59202737, -2.8141215 , -0.9547914 ,\n",
              "       -1.8816328 , -2.251527  ,  0.208779  ,  0.24186568,  0.36262512,\n",
              "       -1.1487632 , -0.33167967,  1.4389734 ,  0.9608894 ,  0.35947856,\n",
              "       -0.45259392, -0.45514247, -2.1248987 ,  1.828458  , -1.8585896 ,\n",
              "        0.4114255 ,  1.1428199 , -0.50754434, -0.12364098, -3.7919624 ,\n",
              "       -1.3027766 , -1.0333146 ,  0.97529024, -0.9289765 , -0.9175716 ,\n",
              "        0.04012083, -1.7776312 , -0.16942771,  2.318477  ,  0.16809507,\n",
              "        1.5688989 , -1.9980967 , -1.0449845 ,  1.3963503 , -0.13359734,\n",
              "       -1.4952992 , -0.60059625, -0.04604611, -1.8134118 , -0.50812286,\n",
              "       -1.7697111 , -2.6240456 ,  0.50520307, -2.0226426 , -0.8193453 ,\n",
              "       -3.036361  ,  0.32545397, -0.5707175 ,  0.93880373,  1.5678531 ,\n",
              "       -0.4485128 ,  1.4617805 ,  2.6263788 ,  1.0872725 ,  0.21335754,\n",
              "        0.93010294,  3.489708  ,  0.17392842,  0.911422  , -0.61643803,\n",
              "       -2.1106405 ,  0.36008754, -0.32839164, -0.2838782 , -0.23150575,\n",
              "        0.73796517, -1.3399363 , -2.356109  , -2.0610485 , -1.2165475 ,\n",
              "        0.7498155 , -0.19086224, -2.8202996 , -0.37605208,  0.1785639 ,\n",
              "        0.72514814, -0.8697008 ,  0.41977307,  0.04011298, -2.8652422 ,\n",
              "       -0.18194903, -0.5910473 , -2.7400806 , -0.6971266 ,  1.2614748 ,\n",
              "       -1.2979602 , -3.0204656 , -0.743788  ,  1.6838108 ,  0.11611916,\n",
              "        0.84407914, -3.4510055 ,  0.61605287, -1.2632201 , -0.00716789,\n",
              "       -1.2434675 , -0.47464737, -0.7219753 , -0.51104206, -3.793404  ,\n",
              "       -1.0512625 , -1.2473925 , -0.67683965, -0.17455211,  2.6480556 ,\n",
              "       -2.1741571 , -2.2171447 ,  0.71225303,  4.1232347 , -1.4569836 ],\n",
              "      dtype=float32)"
            ]
          },
          "metadata": {},
          "execution_count": 17
        }
      ]
    },
    {
      "cell_type": "code",
      "metadata": {
        "id": "T4Eq-D1qxpMJ",
        "colab": {
          "base_uri": "https://localhost:8080/"
        },
        "outputId": "ffcb266c-6542-4160-a705-27e927e6322c"
      },
      "source": [
        "print(f\"Num of words: {len(wv_embeddings.index_to_key)}\")"
      ],
      "execution_count": null,
      "outputs": [
        {
          "output_type": "stream",
          "name": "stdout",
          "text": [
            "Num of words: 1787145\n"
          ]
        }
      ]
    },
    {
      "cell_type": "markdown",
      "metadata": {
        "id": "ZT6NTCys6j1Q"
      },
      "source": [
        "Найдем наиболее близкие слова к слову `dog`:"
      ]
    },
    {
      "cell_type": "markdown",
      "metadata": {
        "id": "n08z2PjMwC5o"
      },
      "source": [
        "#### Вопрос 1:\n",
        "* Входит ли слов `cat` топ-5 близких слов к слову `dog`? Какое место?"
      ]
    },
    {
      "cell_type": "code",
      "metadata": {
        "scrolled": true,
        "id": "nYwVz0xG6j1U",
        "colab": {
          "base_uri": "https://localhost:8080/"
        },
        "outputId": "c457f916-9f9f-4730-9cb5-a4576f3ebaa8"
      },
      "source": [
        "# method most_similar\n",
        "print(wv_embeddings.most_similar('dog', topn=5))"
      ],
      "execution_count": null,
      "outputs": [
        {
          "output_type": "stream",
          "name": "stdout",
          "text": [
            "[('animal', 0.8564180135726929), ('dogs', 0.7880866527557373), ('mammal', 0.7623804211616516), ('cats', 0.7621253728866577), ('animals', 0.760793924331665)]\n"
          ]
        }
      ]
    },
    {
      "cell_type": "markdown",
      "metadata": {
        "id": "ai48-5vv6j1d"
      },
      "source": [
        "### Векторные представления текста\n",
        "\n",
        "Перейдем от векторных представлений отдельных слов к векторным представлениям вопросов, как к **среднему** векторов всех слов в вопросе. Если для какого-то слова нет предобученного вектора, то его нужно пропустить. Если вопрос не содержит ни одного известного слова, то нужно вернуть нулевой вектор."
      ]
    },
    {
      "cell_type": "code",
      "metadata": {
        "id": "EhNuxBJd6j1f"
      },
      "source": [
        "# import numpy as np\n",
        "# import re\n",
        "# # you can use your tokenizer\n",
        "# # for example, from nltk.tokenize import WordPunctTokenizer\n",
        "# class MyTokenizer:\n",
        "#     def __init__(self):\n",
        "#         pass\n",
        "#     def tokenize(self, text):\n",
        "#         return re.findall('\\w+', text)\n",
        "# tokenizer = MyTokenizer()"
      ],
      "execution_count": null,
      "outputs": []
    },
    {
      "cell_type": "code",
      "source": [
        "# tokenizer.tokenize(\"The price\\t of burger \\nin BurgerKing is Rs.36.\\n\")"
      ],
      "metadata": {
        "id": "-NeS_4dIZI55"
      },
      "execution_count": null,
      "outputs": []
    },
    {
      "cell_type": "code",
      "source": [
        "from nltk.tokenize import WordPunctTokenizer\n",
        "my_tokenizer = WordPunctTokenizer()"
      ],
      "metadata": {
        "id": "Nz3kgmb5Y3Hy"
      },
      "execution_count": null,
      "outputs": []
    },
    {
      "cell_type": "code",
      "source": [
        "my_tokenizer.tokenize(\"The price\\t of burger \\nin BurgerKing is Rs.36.\\n\")"
      ],
      "metadata": {
        "colab": {
          "base_uri": "https://localhost:8080/"
        },
        "id": "0c_SDccrZcpr",
        "outputId": "61634e28-990e-464e-d7fb-2663fca70784"
      },
      "execution_count": null,
      "outputs": [
        {
          "output_type": "execute_result",
          "data": {
            "text/plain": [
              "['The',\n",
              " 'price',\n",
              " 'of',\n",
              " 'burger',\n",
              " 'in',\n",
              " 'BurgerKing',\n",
              " 'is',\n",
              " 'Rs',\n",
              " '.',\n",
              " '36',\n",
              " '.']"
            ]
          },
          "metadata": {},
          "execution_count": 21
        }
      ]
    },
    {
      "cell_type": "code",
      "source": [
        "import nltk\n",
        "nltk.download('stopwords')\n",
        "nltk.download('wordnet')"
      ],
      "metadata": {
        "colab": {
          "base_uri": "https://localhost:8080/"
        },
        "id": "lkNZ5akioDHp",
        "outputId": "2ada664b-7cab-464d-be1a-2705adfe5a27"
      },
      "execution_count": null,
      "outputs": [
        {
          "output_type": "stream",
          "name": "stderr",
          "text": [
            "[nltk_data] Downloading package stopwords to /root/nltk_data...\n",
            "[nltk_data]   Package stopwords is already up-to-date!\n",
            "[nltk_data] Downloading package wordnet to /root/nltk_data...\n"
          ]
        },
        {
          "output_type": "execute_result",
          "data": {
            "text/plain": [
              "True"
            ]
          },
          "metadata": {},
          "execution_count": 52
        }
      ]
    },
    {
      "cell_type": "code",
      "metadata": {
        "id": "YHcvu6186j1m"
      },
      "source": [
        "import numpy as np\n",
        "from nltk.stem import WordNetLemmatizer\n",
        "from nltk.corpus import stopwords\n",
        "def question_to_vec(question, embeddings, tokenizer, dim=200):\n",
        "    \"\"\"\n",
        "        question: строка\n",
        "        embeddings: наше векторное представление\n",
        "        dim: размер любого вектора в нашем представлении\n",
        "\n",
        "        return: векторное представление для вопроса\n",
        "    \"\"\"\n",
        "    ans = []\n",
        "    stop_words = set(stopwords.words('english'))\n",
        "    lem = WordNetLemmatizer()\n",
        "    tk = tokenizer.tokenize(question.lower())\n",
        "    words = [lem.lemmatize(w) for w in tk if w not in stop_words]\n",
        "    count = 0\n",
        "    for word in tk:\n",
        "        if word in embeddings:\n",
        "            count += 1\n",
        "            ans.append(embeddings[word])\n",
        "    if count == 0:\n",
        "        return np.zeros(200, dtype='float32')\n",
        "    else:\n",
        "        return np.mean(ans, axis=0)"
      ],
      "execution_count": null,
      "outputs": []
    },
    {
      "cell_type": "markdown",
      "metadata": {
        "id": "u5Q_4j7r6j1u"
      },
      "source": [
        "Теперь у нас есть метод для создания векторного представления любого предложения."
      ]
    },
    {
      "cell_type": "markdown",
      "metadata": {
        "id": "EsJSNkhm6j1y"
      },
      "source": [
        "#### Вопрос 2:\n",
        "* Какая третья(с индексом 2) компонента вектора предложения `I love neural networks` (округлите до 2 знаков после запятой)?"
      ]
    },
    {
      "cell_type": "code",
      "metadata": {
        "scrolled": true,
        "id": "a62r11cT6j10"
      },
      "source": [
        "sentences = 'I love neural networks'\n",
        "vector = question_to_vec(sentences, wv_embeddings, my_tokenizer, dim=200)"
      ],
      "execution_count": null,
      "outputs": []
    },
    {
      "cell_type": "code",
      "source": [
        "vector"
      ],
      "metadata": {
        "colab": {
          "base_uri": "https://localhost:8080/"
        },
        "id": "KnmLqb-voOAD",
        "outputId": "9dd79a85-3765-4a2b-bfbc-5a33a5c9c16f"
      },
      "execution_count": null,
      "outputs": [
        {
          "output_type": "execute_result",
          "data": {
            "text/plain": [
              "array([-1.0142275 , -1.6891261 , -1.2854122 , -1.3710302 ,  0.15916634,\n",
              "        0.06706961,  1.1188413 , -0.07051762,  0.5386369 , -0.37139115,\n",
              "        0.28913018,  1.03125   , -2.865466  , -1.3192873 ,  2.2098296 ,\n",
              "        1.1678672 ,  1.0841951 ,  1.8467226 , -0.98733807,  0.8720946 ,\n",
              "       -0.17219625,  0.73839015, -0.7827826 , -0.8827869 , -0.6152611 ,\n",
              "       -0.15872358, -0.6170798 ,  0.36668167,  2.0137532 ,  0.2627472 ,\n",
              "       -1.4950123 , -1.386715  , -1.2049937 , -1.016617  ,  2.7621174 ,\n",
              "        1.7255713 , -0.19038178, -0.5899447 , -0.1141155 , -1.8890352 ,\n",
              "       -1.7883505 , -0.20420384, -0.7062034 ,  2.489034  , -0.15452717,\n",
              "        1.1255013 ,  0.2610835 ,  1.3153247 , -0.57667524, -0.3327141 ,\n",
              "        1.6764902 ,  0.91229993, -0.69880134,  2.3752553 , -1.7634224 ,\n",
              "        3.1378052 ,  1.2243204 , -1.0554415 ,  0.7897571 ,  0.04404024,\n",
              "        1.1623045 , -0.4478023 , -0.9149816 ,  0.01501505, -0.85523087,\n",
              "       -1.0183454 , -0.7162116 ,  1.0727204 ,  0.8881876 , -0.29789424,\n",
              "        1.4994873 , -0.9384045 , -1.6828092 ,  1.0525229 ,  0.77871495,\n",
              "       -3.34081   ,  0.15682733,  0.7449282 , -1.4001557 ,  0.26698634,\n",
              "       -0.73809963,  0.37732854, -1.186255  , -1.5580353 , -1.6205387 ,\n",
              "        0.3077639 , -0.6114703 ,  2.3046587 , -1.5368671 ,  1.1242722 ,\n",
              "        1.1441461 , -1.1531478 , -0.5860432 , -0.51876646,  0.0847506 ,\n",
              "        0.55700606,  0.23870413,  1.9462968 ,  0.53030854,  2.6519432 ,\n",
              "       -0.44217658, -1.3738413 , -2.3082082 , -1.7291006 ,  0.09150317,\n",
              "        0.5256326 , -1.2948507 ,  0.47028258, -0.27833918,  1.7435821 ,\n",
              "        1.2399105 , -0.5580708 ,  1.1559254 ,  0.41553274,  1.609121  ,\n",
              "        1.7537718 , -1.77554   ,  0.44009423, -1.2379423 ,  0.10831648,\n",
              "       -0.6030591 , -2.0164118 , -0.741288  ,  1.3980994 , -0.16379206,\n",
              "       -0.68049955, -0.5787128 , -0.39811432,  0.01662459, -0.02013254,\n",
              "       -1.4819161 , -1.5942149 ,  1.7215437 ,  1.3974282 ,  1.8339332 ,\n",
              "       -1.6149954 ,  1.6407114 ,  0.01269384,  0.8794584 ,  0.8255847 ,\n",
              "       -1.4109812 , -0.6173281 , -0.35946855,  0.6510838 , -1.4075956 ,\n",
              "        1.1300169 , -0.93034726, -2.0259316 ,  0.76860523,  1.2960612 ,\n",
              "       -0.889519  ,  1.3354112 ,  0.99171686,  0.9166878 ,  1.4183179 ,\n",
              "        1.3392485 , -2.2770903 ,  2.0534172 , -0.06724194, -2.3479369 ,\n",
              "       -1.8847011 , -0.02379521, -0.26363063,  1.0747885 , -0.3491387 ,\n",
              "       -0.7492485 ,  0.6601408 ,  0.02122569,  0.35414076,  0.21582615,\n",
              "        0.5345003 ,  0.8234115 ,  0.03441159,  1.2792889 ,  0.57790637,\n",
              "       -1.0084995 , -1.4206891 ,  1.8025084 ,  0.8448728 ,  0.35306382,\n",
              "       -0.61330116, -0.4524261 , -0.4341513 , -0.1759737 , -0.7880316 ,\n",
              "        0.02072136,  0.683048  , -0.3041604 ,  1.2950336 , -0.92554665,\n",
              "       -1.357943  ,  0.16884269, -1.2752739 ,  0.02057016, -1.4632632 ,\n",
              "       -0.57811093,  0.9936001 ,  1.8199921 , -1.6206802 ,  0.8086469 ],\n",
              "      dtype=float32)"
            ]
          },
          "metadata": {},
          "execution_count": 60
        }
      ]
    },
    {
      "cell_type": "code",
      "source": [
        "round(vector[2],2)"
      ],
      "metadata": {
        "colab": {
          "base_uri": "https://localhost:8080/"
        },
        "id": "8MdNkvrjRJoK",
        "outputId": "5138b5c5-ab9a-4e3f-c9c2-fdfffad370ed"
      },
      "execution_count": null,
      "outputs": [
        {
          "output_type": "execute_result",
          "data": {
            "text/plain": [
              "-1.29"
            ]
          },
          "metadata": {},
          "execution_count": 56
        }
      ]
    },
    {
      "cell_type": "code",
      "source": [
        "sentences = 'dslskk dfjddhj'\n",
        "vector = question_to_vec(sentences, wv_embeddings, my_tokenizer, dim=200)\n",
        "vector"
      ],
      "metadata": {
        "colab": {
          "base_uri": "https://localhost:8080/"
        },
        "id": "7BahUEO-TADV",
        "outputId": "a81b7069-9986-43d3-faff-c9aafdc3e8a6"
      },
      "execution_count": null,
      "outputs": [
        {
          "output_type": "execute_result",
          "data": {
            "text/plain": [
              "array([0., 0., 0., 0., 0., 0., 0., 0., 0., 0., 0., 0., 0., 0., 0., 0., 0.,\n",
              "       0., 0., 0., 0., 0., 0., 0., 0., 0., 0., 0., 0., 0., 0., 0., 0., 0.,\n",
              "       0., 0., 0., 0., 0., 0., 0., 0., 0., 0., 0., 0., 0., 0., 0., 0., 0.,\n",
              "       0., 0., 0., 0., 0., 0., 0., 0., 0., 0., 0., 0., 0., 0., 0., 0., 0.,\n",
              "       0., 0., 0., 0., 0., 0., 0., 0., 0., 0., 0., 0., 0., 0., 0., 0., 0.,\n",
              "       0., 0., 0., 0., 0., 0., 0., 0., 0., 0., 0., 0., 0., 0., 0., 0., 0.,\n",
              "       0., 0., 0., 0., 0., 0., 0., 0., 0., 0., 0., 0., 0., 0., 0., 0., 0.,\n",
              "       0., 0., 0., 0., 0., 0., 0., 0., 0., 0., 0., 0., 0., 0., 0., 0., 0.,\n",
              "       0., 0., 0., 0., 0., 0., 0., 0., 0., 0., 0., 0., 0., 0., 0., 0., 0.,\n",
              "       0., 0., 0., 0., 0., 0., 0., 0., 0., 0., 0., 0., 0., 0., 0., 0., 0.,\n",
              "       0., 0., 0., 0., 0., 0., 0., 0., 0., 0., 0., 0., 0., 0., 0., 0., 0.,\n",
              "       0., 0., 0., 0., 0., 0., 0., 0., 0., 0., 0., 0., 0.], dtype=float32)"
            ]
          },
          "metadata": {},
          "execution_count": 57
        }
      ]
    },
    {
      "cell_type": "markdown",
      "metadata": {
        "id": "Y60z4t6W6j16"
      },
      "source": [
        "### Оценка близости текстов\n",
        "\n",
        "Представим, что мы используем идеальные векторные представления слов. Тогда косинусное расстояние между дублирующими предложениями должно быть меньше, чем между случайно взятыми предложениями.\n",
        "\n",
        "Сгенерируем для каждого из $N$ вопросов $R$ случайных отрицательных примеров и примешаем к ним также настоящие дубликаты. Для каждого вопроса будем ранжировать с помощью нашей модели $R + 1$ примеров и смотреть на позицию дубликата. Мы хотим, чтобы дубликат был первым в ранжированном списке.\n",
        "\n",
        "#### Hits@K\n",
        "Первой простой метрикой будет количество корректных попаданий для какого-то $K$:\n",
        "$$ \\text{Hits@K} = \\frac{1}{N}\\sum_{i=1}^N \\, [rank\\_q_i^{'} \\le K],$$\n",
        "* $\\begin{equation*}\n",
        "[x < 0 ] \\equiv\n",
        " \\begin{cases}\n",
        "   1, &x < 0\\\\\n",
        "   0, &x \\geq 0\n",
        " \\end{cases}\n",
        "\\end{equation*}$ - индикаторная функция\n",
        "* $q_i$ - $i$-ый вопрос\n",
        "* $q_i^{'}$ - его дубликат\n",
        "* $rank\\_q_i^{'}$ - позиция дубликата в ранжированном списке ближайших предложений для вопроса $q_i$.\n",
        "\n",
        "#### DCG@K\n",
        "Второй метрикой будет упрощенная DCG метрика, учитывающая порядок элементов в списке путем домножения релевантности элемента на вес равный обратному логарифму номера позиции::\n",
        "$$ \\text{DCG@K} = \\frac{1}{N} \\sum_{i=1}^N\\frac{1}{\\log_2(1+rank\\_q_i^{'})}\\cdot[rank\\_q_i^{'} \\le K],$$\n",
        "С такой метрикой модель штрафуется за большой ранк корректного ответа"
      ]
    },
    {
      "cell_type": "markdown",
      "metadata": {
        "id": "eHCnH-jw6j18"
      },
      "source": [
        "#### Вопрос 3:\n",
        "* Максимум `Hits@47 - DCG@1`?"
      ]
    },
    {
      "cell_type": "markdown",
      "metadata": {
        "id": "_tFemBkP6j1-"
      },
      "source": [
        "<img src='https://hsto.org/files/1c5/edf/dee/1c5edfdeebce4b71a86bdf986d9f88f2.jpg' width=400, height=200>"
      ]
    },
    {
      "cell_type": "markdown",
      "metadata": {
        "id": "0sUSxk866j1_"
      },
      "source": [
        "#### Пример оценок\n",
        "\n",
        "Вычислим описанные выше метрики для игрушечного примера.\n",
        "Пусть\n",
        "* $N = 1$, $R = 3$\n",
        "* <font color='green'>\"Что такое python?\"</font> - вопрос $q_1$\n",
        "* <font color='red'>\"Что такое язык python?\"</font> - его дубликат $q_i^{'}$\n",
        "\n",
        "Пусть модель выдала следующий ранжированный список кандидатов:\n",
        "\n",
        "1. \"Как изучить с++?\"\n",
        "2. <font color='red'>\"Что такое язык python?\"</font>\n",
        "3. \"Хочу учить Java\"\n",
        "4. \"Не понимаю Tensorflow\"\n",
        "\n",
        "$\\Rightarrow rank\\_q_i^{'} = 2$\n",
        "\n",
        "Вычислим метрику *Hits@K* для *K = 1, 4*:\n",
        "\n",
        "- [K = 1] $\\text{Hits@1} =  [rank\\_q_i^{'} \\le 1)] = 0$\n",
        "- [K = 4] $\\text{Hits@4} =  [rank\\_q_i^{'} \\le 4] = 1$\n",
        "\n",
        "Вычислим метрику *DCG@K* для *K = 1, 4*:\n",
        "- [K = 1] $\\text{DCG@1} = \\frac{1}{\\log_2(1+2)}\\cdot[2 \\le 1] = 0$\n",
        "- [K = 4] $\\text{DCG@4} = \\frac{1}{\\log_2(1+2)}\\cdot[2 \\le 4] = \\frac{1}{\\log_2{3}}$"
      ]
    },
    {
      "cell_type": "markdown",
      "metadata": {
        "id": "B4L6HJJC6j2B"
      },
      "source": [
        "#### Вопрос 4:\n",
        "* Вычислите `DCG@10`, если $rank\\_q_i^{'} = 9$(округлите до одного знака после запятой)"
      ]
    },
    {
      "cell_type": "markdown",
      "source": [
        "Вычислим метрику *DCG@K* для *K = 10*:\n",
        "- [K = 10] $\\text{DCG@10} = \\frac{1}{\\log_2(1+9)}\\cdot[9 \\le 10] = 0,3$"
      ],
      "metadata": {
        "id": "zKGgPoXH215N"
      }
    },
    {
      "cell_type": "markdown",
      "metadata": {
        "id": "J5xWOORI6j2F"
      },
      "source": [
        "### HITS\\_COUNT и DCG\\_SCORE"
      ]
    },
    {
      "cell_type": "markdown",
      "metadata": {
        "id": "I1q9WQOx6j2H"
      },
      "source": [
        "Каждая функция имеет два аргумента: $dup\\_ranks$ и $k$. $dup\\_ranks$ является списком, который содержит рейтинги дубликатов(их позиции в ранжированном списке). Например, $dup\\_ranks = [2]$ для примера, описанного выше."
      ]
    },
    {
      "cell_type": "code",
      "metadata": {
        "id": "F5VwySUB6j2J"
      },
      "source": [
        "def hits_count(dup_ranks, k):\n",
        "    \"\"\"\n",
        "        dup_ranks: list индексов дубликатов\n",
        "        result: вернуть  Hits@k\n",
        "    \"\"\"\n",
        "    value = []\n",
        "    for num in dup_ranks:\n",
        "        value.append(int(num <= k))\n",
        "    hits_value = np.mean(value)\n",
        "    return hits_value"
      ],
      "execution_count": null,
      "outputs": []
    },
    {
      "cell_type": "code",
      "metadata": {
        "id": "82hQaxCH6j2R"
      },
      "source": [
        "def dcg_score(dup_ranks, k):\n",
        "    \"\"\"\n",
        "        dup_ranks: list индексов дубликатов\n",
        "        result: вернуть DCG@k\n",
        "    \"\"\"\n",
        "    value = []\n",
        "    for num in dup_ranks:\n",
        "      value.append(int(num <= k) / np.log2(1 + num))\n",
        "    dcg_value = np.mean(value)\n",
        "    return dcg_value"
      ],
      "execution_count": null,
      "outputs": []
    },
    {
      "cell_type": "markdown",
      "metadata": {
        "id": "PcwHeXN26j2Y"
      },
      "source": [
        "Протестируем функции. Пусть $N = 1$, то есть один эксперимент. Будем искать копию вопроса и оценивать метрики."
      ]
    },
    {
      "cell_type": "code",
      "metadata": {
        "id": "fjISmOEW6j2h"
      },
      "source": [
        "import pandas as pd"
      ],
      "execution_count": null,
      "outputs": []
    },
    {
      "cell_type": "code",
      "metadata": {
        "id": "gLa_Wqfh6j2m",
        "colab": {
          "base_uri": "https://localhost:8080/"
        },
        "outputId": "24c231a1-e61e-4ac2-bb94-b905473b2d29"
      },
      "source": [
        "copy_answers = [\"How does the catch keyword determine the type of exception that was thrown\",]\n",
        "\n",
        "# наги кандидаты\n",
        "candidates_ranking = [[\"How Can I Make These Links Rotate in PHP\",\n",
        "                       \"How does the catch keyword determine the type of exception that was thrown\",\n",
        "                       \"NSLog array description not memory address\",\n",
        "                       \"PECL_HTTP not recognised php ubuntu\"],]\n",
        "# dup_ranks — позиции наших копий, так как эксперимент один, то этот массив длины 1\n",
        "dup_ranks = [2]\n",
        "\n",
        "# вычисляем метрику для разных k\n",
        "print('Ваш ответ HIT:', [hits_count(dup_ranks, k) for k in range(1, 5)])\n",
        "print('Ваш ответ DCG:', [round(dcg_score(dup_ranks, k), 5) for k in range(1, 5)])"
      ],
      "execution_count": null,
      "outputs": [
        {
          "output_type": "stream",
          "name": "stdout",
          "text": [
            "Ваш ответ HIT: [0.0, 1.0, 1.0, 1.0]\n",
            "Ваш ответ DCG: [0.0, 0.63093, 0.63093, 0.63093]\n"
          ]
        }
      ]
    },
    {
      "cell_type": "markdown",
      "metadata": {
        "id": "MoHC3YoQ6j2t"
      },
      "source": [
        "У вас должно получиться"
      ]
    },
    {
      "cell_type": "code",
      "metadata": {
        "scrolled": true,
        "id": "B0NFWq4f6j2u",
        "colab": {
          "base_uri": "https://localhost:8080/",
          "height": 111
        },
        "outputId": "6d38a175-62a6-4cac-b28d-994f7cc88026"
      },
      "source": [
        "# correct_answers - метрика для разных k\n",
        "correct_answers = pd.DataFrame([[0, 1, 1, 1], [0, 1 / (np.log2(3)), 1 / (np.log2(3)), 1 / (np.log2(3))]],\n",
        "                               index=['HITS', 'DCG'], columns=range(1,5))\n",
        "correct_answers"
      ],
      "execution_count": null,
      "outputs": [
        {
          "output_type": "execute_result",
          "data": {
            "text/plain": [
              "      1        2        3        4\n",
              "HITS  0  1.00000  1.00000  1.00000\n",
              "DCG   0  0.63093  0.63093  0.63093"
            ],
            "text/html": [
              "\n",
              "\n",
              "  <div id=\"df-3b51002e-b2f9-43f3-91cc-b4d822b6eacf\">\n",
              "    <div class=\"colab-df-container\">\n",
              "      <div>\n",
              "<style scoped>\n",
              "    .dataframe tbody tr th:only-of-type {\n",
              "        vertical-align: middle;\n",
              "    }\n",
              "\n",
              "    .dataframe tbody tr th {\n",
              "        vertical-align: top;\n",
              "    }\n",
              "\n",
              "    .dataframe thead th {\n",
              "        text-align: right;\n",
              "    }\n",
              "</style>\n",
              "<table border=\"1\" class=\"dataframe\">\n",
              "  <thead>\n",
              "    <tr style=\"text-align: right;\">\n",
              "      <th></th>\n",
              "      <th>1</th>\n",
              "      <th>2</th>\n",
              "      <th>3</th>\n",
              "      <th>4</th>\n",
              "    </tr>\n",
              "  </thead>\n",
              "  <tbody>\n",
              "    <tr>\n",
              "      <th>HITS</th>\n",
              "      <td>0</td>\n",
              "      <td>1.00000</td>\n",
              "      <td>1.00000</td>\n",
              "      <td>1.00000</td>\n",
              "    </tr>\n",
              "    <tr>\n",
              "      <th>DCG</th>\n",
              "      <td>0</td>\n",
              "      <td>0.63093</td>\n",
              "      <td>0.63093</td>\n",
              "      <td>0.63093</td>\n",
              "    </tr>\n",
              "  </tbody>\n",
              "</table>\n",
              "</div>\n",
              "      <button class=\"colab-df-convert\" onclick=\"convertToInteractive('df-3b51002e-b2f9-43f3-91cc-b4d822b6eacf')\"\n",
              "              title=\"Convert this dataframe to an interactive table.\"\n",
              "              style=\"display:none;\">\n",
              "\n",
              "  <svg xmlns=\"http://www.w3.org/2000/svg\" height=\"24px\"viewBox=\"0 0 24 24\"\n",
              "       width=\"24px\">\n",
              "    <path d=\"M0 0h24v24H0V0z\" fill=\"none\"/>\n",
              "    <path d=\"M18.56 5.44l.94 2.06.94-2.06 2.06-.94-2.06-.94-.94-2.06-.94 2.06-2.06.94zm-11 1L8.5 8.5l.94-2.06 2.06-.94-2.06-.94L8.5 2.5l-.94 2.06-2.06.94zm10 10l.94 2.06.94-2.06 2.06-.94-2.06-.94-.94-2.06-.94 2.06-2.06.94z\"/><path d=\"M17.41 7.96l-1.37-1.37c-.4-.4-.92-.59-1.43-.59-.52 0-1.04.2-1.43.59L10.3 9.45l-7.72 7.72c-.78.78-.78 2.05 0 2.83L4 21.41c.39.39.9.59 1.41.59.51 0 1.02-.2 1.41-.59l7.78-7.78 2.81-2.81c.8-.78.8-2.07 0-2.86zM5.41 20L4 18.59l7.72-7.72 1.47 1.35L5.41 20z\"/>\n",
              "  </svg>\n",
              "      </button>\n",
              "\n",
              "\n",
              "\n",
              "    <div id=\"df-b4d4eb29-9aa9-46ef-8385-0b4fb9c8dad7\">\n",
              "      <button class=\"colab-df-quickchart\" onclick=\"quickchart('df-b4d4eb29-9aa9-46ef-8385-0b4fb9c8dad7')\"\n",
              "              title=\"Suggest charts.\"\n",
              "              style=\"display:none;\">\n",
              "\n",
              "<svg xmlns=\"http://www.w3.org/2000/svg\" height=\"24px\"viewBox=\"0 0 24 24\"\n",
              "     width=\"24px\">\n",
              "    <g>\n",
              "        <path d=\"M19 3H5c-1.1 0-2 .9-2 2v14c0 1.1.9 2 2 2h14c1.1 0 2-.9 2-2V5c0-1.1-.9-2-2-2zM9 17H7v-7h2v7zm4 0h-2V7h2v10zm4 0h-2v-4h2v4z\"/>\n",
              "    </g>\n",
              "</svg>\n",
              "      </button>\n",
              "    </div>\n",
              "\n",
              "<style>\n",
              "  .colab-df-quickchart {\n",
              "    background-color: #E8F0FE;\n",
              "    border: none;\n",
              "    border-radius: 50%;\n",
              "    cursor: pointer;\n",
              "    display: none;\n",
              "    fill: #1967D2;\n",
              "    height: 32px;\n",
              "    padding: 0 0 0 0;\n",
              "    width: 32px;\n",
              "  }\n",
              "\n",
              "  .colab-df-quickchart:hover {\n",
              "    background-color: #E2EBFA;\n",
              "    box-shadow: 0px 1px 2px rgba(60, 64, 67, 0.3), 0px 1px 3px 1px rgba(60, 64, 67, 0.15);\n",
              "    fill: #174EA6;\n",
              "  }\n",
              "\n",
              "  [theme=dark] .colab-df-quickchart {\n",
              "    background-color: #3B4455;\n",
              "    fill: #D2E3FC;\n",
              "  }\n",
              "\n",
              "  [theme=dark] .colab-df-quickchart:hover {\n",
              "    background-color: #434B5C;\n",
              "    box-shadow: 0px 1px 3px 1px rgba(0, 0, 0, 0.15);\n",
              "    filter: drop-shadow(0px 1px 2px rgba(0, 0, 0, 0.3));\n",
              "    fill: #FFFFFF;\n",
              "  }\n",
              "</style>\n",
              "\n",
              "    <script>\n",
              "      async function quickchart(key) {\n",
              "        const containerElement = document.querySelector('#' + key);\n",
              "        const charts = await google.colab.kernel.invokeFunction(\n",
              "            'suggestCharts', [key], {});\n",
              "      }\n",
              "    </script>\n",
              "\n",
              "      <script>\n",
              "\n",
              "function displayQuickchartButton(domScope) {\n",
              "  let quickchartButtonEl =\n",
              "    domScope.querySelector('#df-b4d4eb29-9aa9-46ef-8385-0b4fb9c8dad7 button.colab-df-quickchart');\n",
              "  quickchartButtonEl.style.display =\n",
              "    google.colab.kernel.accessAllowed ? 'block' : 'none';\n",
              "}\n",
              "\n",
              "        displayQuickchartButton(document);\n",
              "      </script>\n",
              "      <style>\n",
              "    .colab-df-container {\n",
              "      display:flex;\n",
              "      flex-wrap:wrap;\n",
              "      gap: 12px;\n",
              "    }\n",
              "\n",
              "    .colab-df-convert {\n",
              "      background-color: #E8F0FE;\n",
              "      border: none;\n",
              "      border-radius: 50%;\n",
              "      cursor: pointer;\n",
              "      display: none;\n",
              "      fill: #1967D2;\n",
              "      height: 32px;\n",
              "      padding: 0 0 0 0;\n",
              "      width: 32px;\n",
              "    }\n",
              "\n",
              "    .colab-df-convert:hover {\n",
              "      background-color: #E2EBFA;\n",
              "      box-shadow: 0px 1px 2px rgba(60, 64, 67, 0.3), 0px 1px 3px 1px rgba(60, 64, 67, 0.15);\n",
              "      fill: #174EA6;\n",
              "    }\n",
              "\n",
              "    [theme=dark] .colab-df-convert {\n",
              "      background-color: #3B4455;\n",
              "      fill: #D2E3FC;\n",
              "    }\n",
              "\n",
              "    [theme=dark] .colab-df-convert:hover {\n",
              "      background-color: #434B5C;\n",
              "      box-shadow: 0px 1px 3px 1px rgba(0, 0, 0, 0.15);\n",
              "      filter: drop-shadow(0px 1px 2px rgba(0, 0, 0, 0.3));\n",
              "      fill: #FFFFFF;\n",
              "    }\n",
              "  </style>\n",
              "\n",
              "      <script>\n",
              "        const buttonEl =\n",
              "          document.querySelector('#df-3b51002e-b2f9-43f3-91cc-b4d822b6eacf button.colab-df-convert');\n",
              "        buttonEl.style.display =\n",
              "          google.colab.kernel.accessAllowed ? 'block' : 'none';\n",
              "\n",
              "        async function convertToInteractive(key) {\n",
              "          const element = document.querySelector('#df-3b51002e-b2f9-43f3-91cc-b4d822b6eacf');\n",
              "          const dataTable =\n",
              "            await google.colab.kernel.invokeFunction('convertToInteractive',\n",
              "                                                     [key], {});\n",
              "          if (!dataTable) return;\n",
              "\n",
              "          const docLinkHtml = 'Like what you see? Visit the ' +\n",
              "            '<a target=\"_blank\" href=https://colab.research.google.com/notebooks/data_table.ipynb>data table notebook</a>'\n",
              "            + ' to learn more about interactive tables.';\n",
              "          element.innerHTML = '';\n",
              "          dataTable['output_type'] = 'display_data';\n",
              "          await google.colab.output.renderOutput(dataTable, element);\n",
              "          const docLink = document.createElement('div');\n",
              "          docLink.innerHTML = docLinkHtml;\n",
              "          element.appendChild(docLink);\n",
              "        }\n",
              "      </script>\n",
              "    </div>\n",
              "  </div>\n"
            ]
          },
          "metadata": {},
          "execution_count": 94
        }
      ]
    },
    {
      "cell_type": "markdown",
      "metadata": {
        "id": "tHZqgDTo6j0i"
      },
      "source": [
        "### Данные\n",
        "[arxiv link](https://drive.google.com/file/d/1QqT4D0EoqJTy7v9VrNCYD-m964XZFR7_/edit)\n",
        "\n",
        "`train.tsv` - выборка для обучения.<br> В каждой строке через табуляцию записаны: **<вопрос>, <похожий вопрос>**\n",
        "\n",
        "`validation.tsv` - тестовая выборка.<br> В каждой строке через табуляцию записаны: **<вопрос>, <похожий вопрос>, <отрицательный пример 1>, <отрицательный пример 2>, ...**"
      ]
    },
    {
      "cell_type": "code",
      "metadata": {
        "id": "jKVK2lDGvrIe",
        "colab": {
          "base_uri": "https://localhost:8080/"
        },
        "outputId": "91df944f-ea57-457e-e37f-9a24dae5a006"
      },
      "source": [
        "!unzip data.zip"
      ],
      "execution_count": null,
      "outputs": [
        {
          "output_type": "stream",
          "name": "stdout",
          "text": [
            "Archive:  data.zip\n",
            "   creating: data/\n",
            "  inflating: __MACOSX/._data         \n",
            "  inflating: data/.DS_Store          \n",
            "  inflating: __MACOSX/data/._.DS_Store  \n",
            "  inflating: data/train.tsv          \n",
            "  inflating: __MACOSX/data/._train.tsv  \n",
            "  inflating: data/validation.tsv     \n",
            "  inflating: __MACOSX/data/._validation.tsv  \n"
          ]
        }
      ]
    },
    {
      "cell_type": "markdown",
      "metadata": {
        "id": "hil2UsUG6j22"
      },
      "source": [
        "Считайте данные."
      ]
    },
    {
      "cell_type": "code",
      "metadata": {
        "id": "B4EBho8s6j26"
      },
      "source": [
        "def read_corpus(filename):\n",
        "    data = []\n",
        "    for line in open(filename, encoding='utf-8'):\n",
        "        data.append(line)\n",
        "    return data"
      ],
      "execution_count": null,
      "outputs": []
    },
    {
      "cell_type": "markdown",
      "metadata": {
        "id": "kkTxY3Mk9_nG"
      },
      "source": [
        "Нам понадобиться только файл validation."
      ]
    },
    {
      "cell_type": "code",
      "metadata": {
        "id": "PTVB9Tnp6j29"
      },
      "source": [
        "validation_data = read_corpus('./data/validation.tsv')"
      ],
      "execution_count": null,
      "outputs": []
    },
    {
      "cell_type": "markdown",
      "metadata": {
        "id": "bTHfL-9y6j3F"
      },
      "source": [
        "Кол-во строк"
      ]
    },
    {
      "cell_type": "code",
      "metadata": {
        "scrolled": false,
        "id": "z6ubXhIe6j3H",
        "colab": {
          "base_uri": "https://localhost:8080/"
        },
        "outputId": "5fa95f8f-a651-4e7b-e877-43df4304e1c1"
      },
      "source": [
        "len(validation_data)"
      ],
      "execution_count": null,
      "outputs": [
        {
          "output_type": "execute_result",
          "data": {
            "text/plain": [
              "3760"
            ]
          },
          "metadata": {},
          "execution_count": 68
        }
      ]
    },
    {
      "cell_type": "markdown",
      "metadata": {
        "id": "kaOQblBy6j3M"
      },
      "source": [
        "Размер нескольких первых строк"
      ]
    },
    {
      "cell_type": "code",
      "metadata": {
        "id": "yRx6e-Pe6j3M",
        "colab": {
          "base_uri": "https://localhost:8080/"
        },
        "outputId": "5d6241f1-c0af-444c-8c94-cd6963d4f217"
      },
      "source": [
        "for i in range(5):\n",
        "    print(i + 1, len(validation_data[i]))"
      ],
      "execution_count": null,
      "outputs": [
        {
          "output_type": "stream",
          "name": "stdout",
          "text": [
            "1 54517\n",
            "2 52818\n",
            "3 54464\n",
            "4 53724\n",
            "5 52297\n"
          ]
        }
      ]
    },
    {
      "cell_type": "markdown",
      "metadata": {
        "id": "ySQQp0oQt1Ep"
      },
      "source": [
        "### Ранжирование без обучения"
      ]
    },
    {
      "cell_type": "markdown",
      "metadata": {
        "id": "iElEDhj-6j3R"
      },
      "source": [
        "Реализуйте функцию ранжирования кандидатов на основе косинусного расстояния. Функция должна по списку кандидатов вернуть отсортированный список пар (позиция в исходном списке кандидатов, кандидат). При этом позиция кандидата в полученном списке является его рейтингом (первый - лучший). Например, если исходный список кандидатов был [a, b, c], и самый похожий на исходный вопрос среди них - c, затем a, и в конце b, то функция должна вернуть список **[(2, c), (0, a), (1, b)]**."
      ]
    },
    {
      "cell_type": "code",
      "metadata": {
        "id": "K02JARKr6j3T"
      },
      "source": [
        "from sklearn.metrics.pairwise import cosine_similarity\n",
        "from copy import deepcopy"
      ],
      "execution_count": null,
      "outputs": []
    },
    {
      "cell_type": "code",
      "metadata": {
        "id": "1yP8wJWj6j3X"
      },
      "source": [
        "def rank_candidates(question, candidates, embeddings, tokenizer, dim=200):\n",
        "    \"\"\"\n",
        "        question: строка\n",
        "        candidates: массив строк(кандидатов) [a, b, c]\n",
        "        result: пары (начальная позиция, кандидат) [(2, c), (0, a), (1, b)]\n",
        "    \"\"\"\n",
        "    new_c = []\n",
        "    vector_q = question_to_vec(question, embeddings, tokenizer, dim=200)\n",
        "    vector_q = vector_q.reshape(1, -1)\n",
        "    for j in range(len(candidates)):\n",
        "        vector_c = question_to_vec(candidates[j], embeddings, tokenizer, dim=200)\n",
        "        vector_c = vector_c.reshape(1, -1)\n",
        "        dist = cosine_similarity(vector_c, vector_q)\n",
        "        dist = np.reshape(dist, -1)\n",
        "        dist = dist.tolist()\n",
        "        new_c.append([dist[0], j, candidates[j]])\n",
        "    new_c = sorted(new_c, reverse=True)\n",
        "    for i in range(len(new_c)):\n",
        "        new_c[i] = tuple(new_c[i][1:])\n",
        "    return new_c"
      ],
      "execution_count": null,
      "outputs": []
    },
    {
      "cell_type": "markdown",
      "metadata": {
        "id": "TnBszTb76j3c"
      },
      "source": [
        "Протестируйте работу функции на примерах ниже. Пусть $N=2$, то есть два эксперимента"
      ]
    },
    {
      "cell_type": "code",
      "metadata": {
        "id": "xvQgtP176j3h"
      },
      "source": [
        "questions = ['converting string to list', 'Sending array via Ajax fails']\n",
        "\n",
        "candidates = [['Convert Google results object (pure js) to Python object', # первый эксперимент\n",
        "               'C# create cookie from string and send it',\n",
        "               'How to use jQuery AJAX for an outside domain?'],\n",
        "\n",
        "              ['Getting all list items of an unordered list in PHP',      # второй эксперимент\n",
        "               'WPF- How to update the changes in list item of a list',\n",
        "               'select2 not displaying search results']]"
      ],
      "execution_count": null,
      "outputs": []
    },
    {
      "cell_type": "code",
      "metadata": {
        "id": "bPj1JGFi6j3m",
        "colab": {
          "base_uri": "https://localhost:8080/"
        },
        "outputId": "13c4181b-f590-4b01-d3b4-f4da89431cb0"
      },
      "source": [
        "for question, q_candidates in zip(questions, candidates):\n",
        "        ranks = rank_candidates(question, q_candidates, wv_embeddings, my_tokenizer)\n",
        "        print(ranks)\n",
        "        print()"
      ],
      "execution_count": null,
      "outputs": [
        {
          "output_type": "stream",
          "name": "stdout",
          "text": [
            "[(1, 'C# create cookie from string and send it'), (0, 'Convert Google results object (pure js) to Python object'), (2, 'How to use jQuery AJAX for an outside domain?')]\n",
            "\n",
            "[(0, 'Getting all list items of an unordered list in PHP'), (2, 'select2 not displaying search results'), (1, 'WPF- How to update the changes in list item of a list')]\n",
            "\n"
          ]
        }
      ]
    },
    {
      "cell_type": "markdown",
      "metadata": {
        "id": "jm4cidj56j3q"
      },
      "source": [
        "Для первого экперимента вы можете полностью сравнить ваши ответы и правильные ответы. Но для второго эксперимента два ответа на кандидаты будут <b>скрыты</b>(*)"
      ]
    },
    {
      "cell_type": "code",
      "metadata": {
        "id": "0LeKMIsn6j3s"
      },
      "source": [
        "# # должно вывести\n",
        "# results = [[(1, 'C# create cookie from string and send it'),\n",
        "#             (0, 'Convert Google results object (pure js) to Python object'),\n",
        "#             (2, 'How to use jQuery AJAX for an outside domain?')],\n",
        "#            [(*, 'Getting all list items of an unordered list in PHP'), #скрыт\n",
        "#             (*, 'select2 not displaying search results'), #скрыт\n",
        "#             (*, 'WPF- How to update the changes in list item of a list')]] #скрыт"
      ],
      "execution_count": null,
      "outputs": []
    },
    {
      "cell_type": "markdown",
      "metadata": {
        "id": "t1ttnIBe6j3x"
      },
      "source": [
        "Последовательность начальных индексов вы должны получить `для эксперимента 1`  1, 0, 2."
      ]
    },
    {
      "cell_type": "markdown",
      "metadata": {
        "id": "5WQgYDWd6j3y"
      },
      "source": [
        "#### Вопрос 5:\n",
        "* Какую последовательность начальных индексов вы получили `для эксперимента 2`(перечисление без запятой и пробелов, например, `102` для первого эксперимента?\n",
        "\n",
        "Ответ: 102"
      ]
    },
    {
      "cell_type": "markdown",
      "metadata": {
        "id": "fPllOY-Y6j30"
      },
      "source": [
        "Теперь мы можем оценить качество нашего метода. Запустите следующие два блока кода для получения результата. Обратите внимание, что вычисление расстояния между векторами занимает некоторое время (примерно 10 минут). Можете взять для validation 1000 примеров."
      ]
    },
    {
      "cell_type": "code",
      "metadata": {
        "id": "Z3q9sxddz-yU"
      },
      "source": [
        "from tqdm.notebook import tqdm"
      ],
      "execution_count": null,
      "outputs": []
    },
    {
      "cell_type": "code",
      "metadata": {
        "id": "nu7K4mis6j32",
        "colab": {
          "base_uri": "https://localhost:8080/",
          "height": 168,
          "referenced_widgets": [
            "737a44c897624d18a4c2d6c82045ad0a",
            "81d9da7aadae40829f4bcfed3ad9f80c",
            "6b36106d56bd44d0b2448c17ad39f54d",
            "ae84f62fd89e4612b89351b228609f2b",
            "e281f614019e488c9fcec5a850e18c34",
            "a2a3724c0ec7414e9674c175a03b7b82",
            "4a8a1c9071ef4311881c53e57ba856c6",
            "72bde83d179d40d897e7071b480d90ae",
            "e527e4e796c14bce91c590b1c0a12509",
            "c17a5947fbe34adab47b7f089e353bd1",
            "d4cd1285b0a84e2eaac569cccfa2dae7"
          ]
        },
        "outputId": "0900ffe8-5f8b-4d0f-facc-9de4f5898748"
      },
      "source": [
        "wv_ranking = []\n",
        "max_validation_examples = 1000\n",
        "for i, line in enumerate(tqdm(validation_data)):\n",
        "    if i == max_validation_examples:\n",
        "        break\n",
        "    line = line.split('\t')\n",
        "    q, *ex = line\n",
        "    ranks = rank_candidates(q, ex, wv_embeddings, my_tokenizer)\n",
        "    wv_ranking.append([r[0] for r in ranks].index(0) + 1)"
      ],
      "execution_count": null,
      "outputs": [
        {
          "output_type": "display_data",
          "data": {
            "text/plain": [
              "  0%|          | 0/3760 [00:00<?, ?it/s]"
            ],
            "application/vnd.jupyter.widget-view+json": {
              "version_major": 2,
              "version_minor": 0,
              "model_id": "737a44c897624d18a4c2d6c82045ad0a"
            }
          },
          "metadata": {}
        },
        {
          "output_type": "stream",
          "name": "stderr",
          "text": [
            "Exception ignored in: <function SeekableUnicodeStreamReader.__del__ at 0x7f2bdb3de7a0>\n",
            "Traceback (most recent call last):\n",
            "  File \"/usr/local/lib/python3.10/dist-packages/nltk/data.py\", line 1160, in __del__\n",
            "    if not self.closed:\n",
            "  File \"/usr/local/lib/python3.10/dist-packages/nltk/data.py\", line 1180, in closed\n",
            "    return self.stream.closed\n",
            "AttributeError: 'SeekableUnicodeStreamReader' object has no attribute 'stream'\n"
          ]
        }
      ]
    },
    {
      "cell_type": "code",
      "metadata": {
        "scrolled": true,
        "id": "gDtS520v6j35",
        "colab": {
          "base_uri": "https://localhost:8080/",
          "height": 151,
          "referenced_widgets": [
            "fdcab874934d40f3a06634a0f48d0bf2",
            "935232248e944cebbacd3e94d79bed16",
            "fa883ec0af514875ba607b4fc862035e",
            "97dc873cbb6c4d8795234621297874c4",
            "045c69e5435244309d4d132ab73fb9f4",
            "e04e6da604304b0da65f4dd10c409a89",
            "d6ea30bf05cd49639a138cc8e9498dc7",
            "c351046ea19440cb8dce136828744b6f",
            "9d1e69896e0c4896acabefd318298613",
            "57d6696e8c8c43e2a89d97b47f3226c5",
            "3bb694f5f45a477cb98a1fe5938f326f"
          ]
        },
        "outputId": "678d3d86-e011-45e2-ac8b-c6732662f083"
      },
      "source": [
        "for k in tqdm([1, 5, 10, 100, 500, 1000]):\n",
        "    print(\"DCG@%4d: %.3f | Hits@%4d: %.3f\" % (k, dcg_score(wv_ranking, k), k, hits_count(wv_ranking, k)))"
      ],
      "execution_count": null,
      "outputs": [
        {
          "output_type": "display_data",
          "data": {
            "text/plain": [
              "  0%|          | 0/6 [00:00<?, ?it/s]"
            ],
            "application/vnd.jupyter.widget-view+json": {
              "version_major": 2,
              "version_minor": 0,
              "model_id": "fdcab874934d40f3a06634a0f48d0bf2"
            }
          },
          "metadata": {}
        },
        {
          "output_type": "stream",
          "name": "stdout",
          "text": [
            "DCG@   1: 0.397 | Hits@   1: 0.397\n",
            "DCG@   5: 0.494 | Hits@   5: 0.578\n",
            "DCG@  10: 0.516 | Hits@  10: 0.644\n",
            "DCG@ 100: 0.563 | Hits@ 100: 0.875\n",
            "DCG@ 500: 0.575 | Hits@ 500: 0.973\n",
            "DCG@1000: 0.578 | Hits@1000: 1.000\n"
          ]
        }
      ]
    },
    {
      "cell_type": "markdown",
      "metadata": {
        "id": "LL6_Rjg3InL8"
      },
      "source": [
        "### Эмбеддинги, обученные на корпусе похожих вопросов"
      ]
    },
    {
      "cell_type": "code",
      "metadata": {
        "id": "iNvbpR5gJIPz"
      },
      "source": [
        "train_data = read_corpus('./data/train.tsv')"
      ],
      "execution_count": null,
      "outputs": []
    },
    {
      "cell_type": "markdown",
      "metadata": {
        "id": "Nr281ZyEJfjT"
      },
      "source": [
        "Улучшите качество модели.<br>Склеим вопросы в пары и обучим на них модель Word2Vec из gensim. Выберите размер window. Объясните свой выбор."
      ]
    },
    {
      "cell_type": "code",
      "source": [
        "train_data"
      ],
      "metadata": {
        "id": "-hdgnoFX_G77"
      },
      "execution_count": null,
      "outputs": []
    },
    {
      "cell_type": "code",
      "source": [
        "words = deepcopy(train_data)\n",
        "stop_words = set(stopwords.words('english'))\n",
        "lem = WordNetLemmatizer()"
      ],
      "metadata": {
        "id": "ld50lYbcXiyZ"
      },
      "execution_count": null,
      "outputs": []
    },
    {
      "cell_type": "code",
      "source": [
        "tk =[]\n",
        "for i in range(len(words)):\n",
        "    words[i] = words[i].split('\\t')\n",
        "    words[i] = (' ').join(words[i])\n",
        "    tk.append(my_tokenizer.tokenize(words[i].lower()))"
      ],
      "metadata": {
        "id": "WYUk4NDGwQBJ"
      },
      "execution_count": null,
      "outputs": []
    },
    {
      "cell_type": "code",
      "source": [
        "for i in range(len(tk)):\n",
        "    tk[i] = [lem.lemmatize(w) for w in tk[i] if w not in stop_words]"
      ],
      "metadata": {
        "id": "n1hZ3fHgY3Fg"
      },
      "execution_count": null,
      "outputs": []
    },
    {
      "cell_type": "code",
      "source": [
        "len(tk)"
      ],
      "metadata": {
        "colab": {
          "base_uri": "https://localhost:8080/"
        },
        "id": "_DmTCksSEBA2",
        "outputId": "db15e9ae-cbbe-40b3-8517-9f0a6406592d"
      },
      "execution_count": null,
      "outputs": [
        {
          "output_type": "execute_result",
          "data": {
            "text/plain": [
              "1000000"
            ]
          },
          "metadata": {},
          "execution_count": 184
        }
      ]
    },
    {
      "cell_type": "code",
      "metadata": {
        "id": "QuJzAM0cI-UH",
        "colab": {
          "base_uri": "https://localhost:8080/"
        },
        "outputId": "b9a7e662-5fb8-4b7a-b406-b258a87122d8"
      },
      "source": [
        "from gensim.models import Word2Vec\n",
        "embeddings_trained = Word2Vec(words, # data for model to train on\n",
        "                 vector_size=200,                 # embedding vector size\n",
        "                 min_count=5,             # consider words that occured at least 5 times\n",
        "                 window=5).wv"
      ],
      "execution_count": null,
      "outputs": [
        {
          "output_type": "stream",
          "name": "stderr",
          "text": [
            "WARNING:gensim.models.word2vec:Each 'sentences' item should be a list of words (usually unicode strings). First item here is instead plain <class 'str'>.\n"
          ]
        }
      ]
    },
    {
      "cell_type": "code",
      "metadata": {
        "id": "OQonbm4nMenD",
        "colab": {
          "base_uri": "https://localhost:8080/",
          "height": 49,
          "referenced_widgets": [
            "5899853793014982983ef99115a97484",
            "b4b94c6c7e6f4788ad0dbd3708335b32",
            "05147db684b64ea7b17fc51541d6234c",
            "28fe0802259142a2a02267993158770e",
            "01c8c6c92b5c45d28cd409fb54c9a06c",
            "a84955213512465fa0405301eb27f45e",
            "ef8d229285c64665a4b19fa48bc86970",
            "3e30dae7f40348739318cd7086d34684",
            "088ec885b30d46e6825a8cba7104b17c",
            "ea6729fccd6e4f8aa28b95ef51b7e21e",
            "71971f6287c44556b5ce23b4dad7e1cb"
          ]
        },
        "outputId": "80ec5ffd-83de-4622-a009-18f0dd07fe68"
      },
      "source": [
        "wv_ranking = []\n",
        "max_validation_examples = 1000\n",
        "for i, line in enumerate(tqdm(validation_data)):\n",
        "    if i == max_validation_examples:\n",
        "        break\n",
        "    line = line.split('\t')\n",
        "    q, *ex = line\n",
        "    ranks = rank_candidates(q, ex, embeddings_trained, my_tokenizer)\n",
        "    wv_ranking.append([r[0] for r in ranks].index(0) + 1)"
      ],
      "execution_count": null,
      "outputs": [
        {
          "output_type": "display_data",
          "data": {
            "text/plain": [
              "  0%|          | 0/3760 [00:00<?, ?it/s]"
            ],
            "application/vnd.jupyter.widget-view+json": {
              "version_major": 2,
              "version_minor": 0,
              "model_id": "5899853793014982983ef99115a97484"
            }
          },
          "metadata": {}
        }
      ]
    },
    {
      "cell_type": "code",
      "metadata": {
        "id": "3kahBUPGMgGR",
        "colab": {
          "base_uri": "https://localhost:8080/",
          "height": 151,
          "referenced_widgets": [
            "0a3935c31205416fb8672abee15dd902",
            "e512967ee1184ac08028cb8bf0cf7396",
            "247aff0198704495a81f0332ba283217",
            "eb668278abd346d680b34554291bdbec",
            "8344c0cbe2a942ab9939d24b007e6ea8",
            "c68fe3f2e3a24e20a6faae1dac8835f1",
            "694d3f17ea39496db11f1be492e98960",
            "82c86a75031c4f84ace4dc335b79d369",
            "074ea7a1712241268abd352eaf9ef3ee",
            "15c60dd349254e2fb05307ff6d81482c",
            "17a431e1455b476f85726e61dba81126"
          ]
        },
        "outputId": "4582e20f-9968-4e55-84c3-876599e292ef"
      },
      "source": [
        "for k in tqdm([1, 5, 10, 100, 500, 1000]):\n",
        "    print(\"DCG@%4d: %.3f | Hits@%4d: %.3f\" % (k, dcg_score(wv_ranking, k), k, hits_count(wv_ranking, k)))"
      ],
      "execution_count": null,
      "outputs": [
        {
          "output_type": "display_data",
          "data": {
            "text/plain": [
              "  0%|          | 0/6 [00:00<?, ?it/s]"
            ],
            "application/vnd.jupyter.widget-view+json": {
              "version_major": 2,
              "version_minor": 0,
              "model_id": "0a3935c31205416fb8672abee15dd902"
            }
          },
          "metadata": {}
        },
        {
          "output_type": "stream",
          "name": "stdout",
          "text": [
            "DCG@   1: 0.017 | Hits@   1: 0.017\n",
            "DCG@   5: 0.029 | Hits@   5: 0.039\n",
            "DCG@  10: 0.031 | Hits@  10: 0.046\n",
            "DCG@ 100: 0.052 | Hits@ 100: 0.161\n",
            "DCG@ 500: 0.074 | Hits@ 500: 0.335\n",
            "DCG@1000: 0.143 | Hits@1000: 1.000\n"
          ]
        }
      ]
    }
  ]
}